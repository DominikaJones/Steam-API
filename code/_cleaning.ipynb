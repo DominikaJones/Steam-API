{
 "cells": [
  {
   "cell_type": "markdown",
   "metadata": {},
   "source": [
    "# Predicting STEAM User Engagement"
   ]
  },
  {
   "cell_type": "markdown",
   "metadata": {},
   "source": [
    "# Data Cleaning"
   ]
  },
  {
   "cell_type": "code",
   "execution_count": 93,
   "metadata": {},
   "outputs": [],
   "source": [
    "# import packages\n",
    "import pandas as pd\n",
    "import numpy as np\n",
    "import seaborn as sns\n",
    "import time\n",
    "from ast import literal_eval\n",
    "\n",
    "from sklearn.feature_selection import VarianceThreshold\n",
    "\n",
    "import matplotlib.pyplot as plt\n",
    "import matplotlib.mlab as mlab\n",
    "import matplotlib\n",
    "plt.style.use('ggplot')\n",
    "from matplotlib.pyplot import figure\n",
    "\n",
    "%matplotlib inline\n",
    "matplotlib.rcParams['figure.figsize'] = (12,8)\n",
    "\n",
    "pd.options.mode.chained_assignment = None"
   ]
  },
  {
   "cell_type": "code",
   "execution_count": 24,
   "metadata": {},
   "outputs": [],
   "source": [
    "# reading in the datasets\n",
    "app = pd.read_csv('./data/data_scraped/steampowered_app_data.csv')\n",
    "spy = pd.read_csv('./data/data_scraped/steamspy_data.csv')"
   ]
  },
  {
   "cell_type": "code",
   "execution_count": 83,
   "metadata": {},
   "outputs": [
    {
     "name": "stdout",
     "output_type": "stream",
     "text": [
      "(29999, 30)\n",
      "(30019, 20)\n"
     ]
    }
   ],
   "source": [
    "# shapes the of datasets\n",
    "print(app.shape)\n",
    "print(spy.shape)"
   ]
  },
  {
   "cell_type": "markdown",
   "metadata": {},
   "source": [
    "Inputing the column titles manually first into the steampowered app data and then steamspy data."
   ]
  },
  {
   "cell_type": "code",
   "execution_count": 26,
   "metadata": {},
   "outputs": [],
   "source": [
    "app.columns = ['type', 'name', 'appid', 'required_age', 'free', 'controller_support', 'dlc', 'detailed_description', 'about_the_game', \n",
    "               'short_description', 'full_game', 'supported_languages', 'pc_requirements', 'mac_requirements', 'linux_requirements', \n",
    "              'developers', 'publishers', 'demos', 'price_overview', 'packages', 'package_groups', 'platforms', 'metacritic', 'reviews', \n",
    "              'catagories', 'genres', 'recommendations', 'achievements', 'release_date', 'content_descriptors']"
   ]
  },
  {
   "cell_type": "code",
   "execution_count": 27,
   "metadata": {},
   "outputs": [
    {
     "data": {
      "text/html": [
       "<div>\n",
       "<style scoped>\n",
       "    .dataframe tbody tr th:only-of-type {\n",
       "        vertical-align: middle;\n",
       "    }\n",
       "\n",
       "    .dataframe tbody tr th {\n",
       "        vertical-align: top;\n",
       "    }\n",
       "\n",
       "    .dataframe thead th {\n",
       "        text-align: right;\n",
       "    }\n",
       "</style>\n",
       "<table border=\"1\" class=\"dataframe\">\n",
       "  <thead>\n",
       "    <tr style=\"text-align: right;\">\n",
       "      <th></th>\n",
       "      <th>type</th>\n",
       "      <th>name</th>\n",
       "      <th>appid</th>\n",
       "      <th>required_age</th>\n",
       "      <th>free</th>\n",
       "      <th>controller_support</th>\n",
       "      <th>dlc</th>\n",
       "      <th>detailed_description</th>\n",
       "      <th>about_the_game</th>\n",
       "      <th>short_description</th>\n",
       "      <th>...</th>\n",
       "      <th>package_groups</th>\n",
       "      <th>platforms</th>\n",
       "      <th>metacritic</th>\n",
       "      <th>reviews</th>\n",
       "      <th>catagories</th>\n",
       "      <th>genres</th>\n",
       "      <th>recommendations</th>\n",
       "      <th>achievements</th>\n",
       "      <th>release_date</th>\n",
       "      <th>content_descriptors</th>\n",
       "    </tr>\n",
       "  </thead>\n",
       "  <tbody>\n",
       "    <tr>\n",
       "      <th>0</th>\n",
       "      <td>game</td>\n",
       "      <td>Team Fortress Classic</td>\n",
       "      <td>20</td>\n",
       "      <td>0.0</td>\n",
       "      <td>False</td>\n",
       "      <td>NaN</td>\n",
       "      <td>NaN</td>\n",
       "      <td>One of the most popular online action games of...</td>\n",
       "      <td>One of the most popular online action games of...</td>\n",
       "      <td>One of the most popular online action games of...</td>\n",
       "      <td>...</td>\n",
       "      <td>[{'name': 'default', 'title': 'Buy Team Fortre...</td>\n",
       "      <td>{'windows': True, 'mac': True, 'linux': True}</td>\n",
       "      <td>NaN</td>\n",
       "      <td>NaN</td>\n",
       "      <td>[{'id': 1, 'description': 'Multi-player'}, {'i...</td>\n",
       "      <td>[{'id': '1', 'description': 'Action'}]</td>\n",
       "      <td>{'total': 3796}</td>\n",
       "      <td>NaN</td>\n",
       "      <td>{'coming_soon': False, 'date': 'Apr 1, 1999'}</td>\n",
       "      <td>{'ids': [2, 5], 'notes': 'Includes intense vio...</td>\n",
       "    </tr>\n",
       "    <tr>\n",
       "      <th>1</th>\n",
       "      <td>game</td>\n",
       "      <td>Day of Defeat</td>\n",
       "      <td>30</td>\n",
       "      <td>0.0</td>\n",
       "      <td>False</td>\n",
       "      <td>NaN</td>\n",
       "      <td>NaN</td>\n",
       "      <td>Enlist in an intense brand of Axis vs. Allied ...</td>\n",
       "      <td>Enlist in an intense brand of Axis vs. Allied ...</td>\n",
       "      <td>Enlist in an intense brand of Axis vs. Allied ...</td>\n",
       "      <td>...</td>\n",
       "      <td>[{'name': 'default', 'title': 'Buy Day of Defe...</td>\n",
       "      <td>{'windows': True, 'mac': True, 'linux': True}</td>\n",
       "      <td>{'score': 79, 'url': 'https://www.metacritic.c...</td>\n",
       "      <td>NaN</td>\n",
       "      <td>[{'id': 1, 'description': 'Multi-player'}, {'i...</td>\n",
       "      <td>[{'id': '1', 'description': 'Action'}]</td>\n",
       "      <td>{'total': 2804}</td>\n",
       "      <td>NaN</td>\n",
       "      <td>{'coming_soon': False, 'date': 'May 1, 2003'}</td>\n",
       "      <td>{'ids': [], 'notes': None}</td>\n",
       "    </tr>\n",
       "  </tbody>\n",
       "</table>\n",
       "<p>2 rows × 30 columns</p>\n",
       "</div>"
      ],
      "text/plain": [
       "   type                   name  appid  required_age   free controller_support  \\\n",
       "0  game  Team Fortress Classic     20           0.0  False                NaN   \n",
       "1  game          Day of Defeat     30           0.0  False                NaN   \n",
       "\n",
       "   dlc                               detailed_description  \\\n",
       "0  NaN  One of the most popular online action games of...   \n",
       "1  NaN  Enlist in an intense brand of Axis vs. Allied ...   \n",
       "\n",
       "                                      about_the_game  \\\n",
       "0  One of the most popular online action games of...   \n",
       "1  Enlist in an intense brand of Axis vs. Allied ...   \n",
       "\n",
       "                                   short_description  ...  \\\n",
       "0  One of the most popular online action games of...  ...   \n",
       "1  Enlist in an intense brand of Axis vs. Allied ...  ...   \n",
       "\n",
       "                                      package_groups  \\\n",
       "0  [{'name': 'default', 'title': 'Buy Team Fortre...   \n",
       "1  [{'name': 'default', 'title': 'Buy Day of Defe...   \n",
       "\n",
       "                                       platforms  \\\n",
       "0  {'windows': True, 'mac': True, 'linux': True}   \n",
       "1  {'windows': True, 'mac': True, 'linux': True}   \n",
       "\n",
       "                                          metacritic reviews  \\\n",
       "0                                                NaN     NaN   \n",
       "1  {'score': 79, 'url': 'https://www.metacritic.c...     NaN   \n",
       "\n",
       "                                          catagories  \\\n",
       "0  [{'id': 1, 'description': 'Multi-player'}, {'i...   \n",
       "1  [{'id': 1, 'description': 'Multi-player'}, {'i...   \n",
       "\n",
       "                                   genres  recommendations achievements  \\\n",
       "0  [{'id': '1', 'description': 'Action'}]  {'total': 3796}          NaN   \n",
       "1  [{'id': '1', 'description': 'Action'}]  {'total': 2804}          NaN   \n",
       "\n",
       "                                    release_date  \\\n",
       "0  {'coming_soon': False, 'date': 'Apr 1, 1999'}   \n",
       "1  {'coming_soon': False, 'date': 'May 1, 2003'}   \n",
       "\n",
       "                                 content_descriptors  \n",
       "0  {'ids': [2, 5], 'notes': 'Includes intense vio...  \n",
       "1                         {'ids': [], 'notes': None}  \n",
       "\n",
       "[2 rows x 30 columns]"
      ]
     },
     "execution_count": 27,
     "metadata": {},
     "output_type": "execute_result"
    }
   ],
   "source": [
    "app.head(2)"
   ]
  },
  {
   "cell_type": "code",
   "execution_count": 28,
   "metadata": {},
   "outputs": [],
   "source": [
    "spy.columns = ['appid', 'name', 'developer', 'publisher', 'score_rank', 'positive', 'negative', 'userscore', 'owners', 'average_forever', 'average_2weeks',\n",
    "    'median_forever', 'median_2weeks', 'price', 'initialprice', 'discount', 'languages', 'genre', 'ccu', 'tags']"
   ]
  },
  {
   "cell_type": "code",
   "execution_count": 29,
   "metadata": {},
   "outputs": [
    {
     "data": {
      "text/html": [
       "<div>\n",
       "<style scoped>\n",
       "    .dataframe tbody tr th:only-of-type {\n",
       "        vertical-align: middle;\n",
       "    }\n",
       "\n",
       "    .dataframe tbody tr th {\n",
       "        vertical-align: top;\n",
       "    }\n",
       "\n",
       "    .dataframe thead th {\n",
       "        text-align: right;\n",
       "    }\n",
       "</style>\n",
       "<table border=\"1\" class=\"dataframe\">\n",
       "  <thead>\n",
       "    <tr style=\"text-align: right;\">\n",
       "      <th></th>\n",
       "      <th>appid</th>\n",
       "      <th>name</th>\n",
       "      <th>developer</th>\n",
       "      <th>publisher</th>\n",
       "      <th>score_rank</th>\n",
       "      <th>positive</th>\n",
       "      <th>negative</th>\n",
       "      <th>userscore</th>\n",
       "      <th>owners</th>\n",
       "      <th>average_forever</th>\n",
       "      <th>average_2weeks</th>\n",
       "      <th>median_forever</th>\n",
       "      <th>median_2weeks</th>\n",
       "      <th>price</th>\n",
       "      <th>initialprice</th>\n",
       "      <th>discount</th>\n",
       "      <th>languages</th>\n",
       "      <th>genre</th>\n",
       "      <th>ccu</th>\n",
       "      <th>tags</th>\n",
       "    </tr>\n",
       "  </thead>\n",
       "  <tbody>\n",
       "    <tr>\n",
       "      <th>0</th>\n",
       "      <td>20</td>\n",
       "      <td>Team Fortress Classic</td>\n",
       "      <td>Valve</td>\n",
       "      <td>Valve</td>\n",
       "      <td>NaN</td>\n",
       "      <td>4691</td>\n",
       "      <td>815</td>\n",
       "      <td>0</td>\n",
       "      <td>2,000,000 .. 5,000,000</td>\n",
       "      <td>92</td>\n",
       "      <td>0</td>\n",
       "      <td>19</td>\n",
       "      <td>0</td>\n",
       "      <td>499.0</td>\n",
       "      <td>499.0</td>\n",
       "      <td>0.0</td>\n",
       "      <td>English, French, German, Italian, Spanish - Sp...</td>\n",
       "      <td>Action Games</td>\n",
       "      <td>98</td>\n",
       "      <td>{'Action': 738, 'FPS': 300, 'Multiplayer': 253...</td>\n",
       "    </tr>\n",
       "    <tr>\n",
       "      <th>1</th>\n",
       "      <td>30</td>\n",
       "      <td>Day of Defeat</td>\n",
       "      <td>Valve</td>\n",
       "      <td>Valve</td>\n",
       "      <td>NaN</td>\n",
       "      <td>4564</td>\n",
       "      <td>500</td>\n",
       "      <td>0</td>\n",
       "      <td>5,000,000 .. 10,000,000</td>\n",
       "      <td>299</td>\n",
       "      <td>0</td>\n",
       "      <td>47</td>\n",
       "      <td>0</td>\n",
       "      <td>499.0</td>\n",
       "      <td>499.0</td>\n",
       "      <td>0.0</td>\n",
       "      <td>English, French, German, Italian, Spanish - Spain</td>\n",
       "      <td>Action Games</td>\n",
       "      <td>145</td>\n",
       "      <td>{'FPS': 778, 'World War II': 244, 'Multiplayer...</td>\n",
       "    </tr>\n",
       "  </tbody>\n",
       "</table>\n",
       "</div>"
      ],
      "text/plain": [
       "   appid                   name developer publisher  score_rank  positive  \\\n",
       "0     20  Team Fortress Classic     Valve     Valve         NaN      4691   \n",
       "1     30          Day of Defeat     Valve     Valve         NaN      4564   \n",
       "\n",
       "   negative  userscore                   owners  average_forever  \\\n",
       "0       815          0   2,000,000 .. 5,000,000               92   \n",
       "1       500          0  5,000,000 .. 10,000,000              299   \n",
       "\n",
       "   average_2weeks  median_forever  median_2weeks  price  initialprice  \\\n",
       "0               0              19              0  499.0         499.0   \n",
       "1               0              47              0  499.0         499.0   \n",
       "\n",
       "   discount                                          languages         genre  \\\n",
       "0       0.0  English, French, German, Italian, Spanish - Sp...  Action Games   \n",
       "1       0.0  English, French, German, Italian, Spanish - Spain  Action Games   \n",
       "\n",
       "   ccu                                               tags  \n",
       "0   98  {'Action': 738, 'FPS': 300, 'Multiplayer': 253...  \n",
       "1  145  {'FPS': 778, 'World War II': 244, 'Multiplayer...  "
      ]
     },
     "execution_count": 29,
     "metadata": {},
     "output_type": "execute_result"
    }
   ],
   "source": [
    "spy.head(2)"
   ]
  },
  {
   "cell_type": "code",
   "execution_count": 30,
   "metadata": {},
   "outputs": [],
   "source": [
    "# Merging the two datasets on 'appid' column\n",
    "df = app.merge(spy, on='appid')"
   ]
  },
  {
   "cell_type": "code",
   "execution_count": 31,
   "metadata": {},
   "outputs": [],
   "source": [
    "# Right away i'm dropping name_y as it is the same column as name_x and renaming name_x as name\n",
    "df.drop(columns='name_y', inplace=True)"
   ]
  },
  {
   "cell_type": "code",
   "execution_count": 32,
   "metadata": {},
   "outputs": [],
   "source": [
    "df.rename(columns={'name_x':'name'}, inplace=True)"
   ]
  },
  {
   "cell_type": "code",
   "execution_count": 82,
   "metadata": {},
   "outputs": [
    {
     "name": "stdout",
     "output_type": "stream",
     "text": [
      "(25392, 40)\n",
      "type                     object\n",
      "name                     object\n",
      "appid                     int64\n",
      "required_age            float64\n",
      "free                     object\n",
      "detailed_description     object\n",
      "about_the_game           object\n",
      "short_description        object\n",
      "supported_languages      object\n",
      "pc_requirements          object\n",
      "mac_requirements         object\n",
      "linux_requirements       object\n",
      "developers               object\n",
      "publishers               object\n",
      "price_overview           object\n",
      "packages                 object\n",
      "package_groups           object\n",
      "platforms                object\n",
      "catagories               object\n",
      "genres                   object\n",
      "achievements             object\n",
      "release_date             object\n",
      "content_descriptors      object\n",
      "developer                object\n",
      "publisher                object\n",
      "positive                  int64\n",
      "negative                  int64\n",
      "userscore                 int64\n",
      "owners                   object\n",
      "average_forever           int64\n",
      "average_2weeks            int64\n",
      "median_forever            int64\n",
      "median_2weeks             int64\n",
      "price                   float64\n",
      "initialprice            float64\n",
      "discount                float64\n",
      "languages                object\n",
      "genre                    object\n",
      "ccu                       int64\n",
      "tags                     object\n",
      "dtype: object\n"
     ]
    }
   ],
   "source": [
    "# checking dataset shape and data types\n",
    "print(df.shape)\n",
    "print(df.dtypes)"
   ]
  },
  {
   "cell_type": "code",
   "execution_count": 84,
   "metadata": {},
   "outputs": [
    {
     "name": "stdout",
     "output_type": "stream",
     "text": [
      "type - 0.0%\n",
      "name - 0.0%\n",
      "appid - 0.0%\n",
      "required_age - 0.0%\n",
      "free - 0.0%\n",
      "detailed_description - 0.0%\n",
      "about_the_game - 0.0%\n",
      "short_description - 0.0%\n",
      "supported_languages - 0.0%\n",
      "pc_requirements - 0.0%\n",
      "mac_requirements - 0.0%\n",
      "linux_requirements - 0.0%\n",
      "developers - 0.0%\n",
      "publishers - 0.0%\n",
      "price_overview - 19.0%\n",
      "packages - 18.0%\n",
      "package_groups - 0.0%\n",
      "platforms - 0.0%\n",
      "catagories - 2.0%\n",
      "genres - 0.0%\n",
      "achievements - 41.0%\n",
      "release_date - 0.0%\n",
      "content_descriptors - 0.0%\n",
      "developer - 0.0%\n",
      "publisher - 0.0%\n",
      "positive - 0.0%\n",
      "negative - 0.0%\n",
      "userscore - 0.0%\n",
      "owners - 0.0%\n",
      "average_forever - 0.0%\n",
      "average_2weeks - 0.0%\n",
      "median_forever - 0.0%\n",
      "median_2weeks - 0.0%\n",
      "price - 0.0%\n",
      "initialprice - 0.0%\n",
      "discount - 0.0%\n",
      "languages - 0.0%\n",
      "genre - 1.0%\n",
      "ccu - 0.0%\n",
      "tags - 0.0%\n"
     ]
    }
   ],
   "source": [
    "# Checking the % of missing values in each column. \n",
    "for col in df.columns:\n",
    "    pct_missing = np.mean(df[col].isnull())\n",
    "    print('{} - {}%'.format(col, round(pct_missing*100)))"
   ]
  },
  {
   "cell_type": "code",
   "execution_count": 35,
   "metadata": {},
   "outputs": [],
   "source": [
    "# drop any duplicated rows\n",
    "df = df.drop_duplicates()"
   ]
  },
  {
   "cell_type": "code",
   "execution_count": 79,
   "metadata": {},
   "outputs": [],
   "source": [
    "#drop data where over 50% is missing\n",
    "df.drop(columns=['controller_support', 'dlc', 'full_game', 'demos', 'metacritic', 'reviews', 'recommendations', 'score_rank'], inplace=True)"
   ]
  },
  {
   "cell_type": "code",
   "execution_count": 37,
   "metadata": {},
   "outputs": [],
   "source": [
    "# saving the new dataframe\n",
    "df.to_csv('merged_data.csv', index=False)"
   ]
  },
  {
   "cell_type": "code",
   "execution_count": 111,
   "metadata": {},
   "outputs": [],
   "source": [
    "df = pd.read_csv('merged_data.csv')"
   ]
  },
  {
   "cell_type": "code",
   "execution_count": 112,
   "metadata": {},
   "outputs": [
    {
     "name": "stdout",
     "output_type": "stream",
     "text": [
      "['appid' 'required_age' 'positive' 'negative' 'userscore'\n",
      " 'average_forever' 'average_2weeks' 'median_forever' 'median_2weeks'\n",
      " 'price' 'initialprice' 'discount' 'ccu']\n"
     ]
    }
   ],
   "source": [
    "# gathering numeric columns\n",
    "df_numeric = df.select_dtypes(include=[np.number])\n",
    "numeric_cols = df_numeric.columns.values\n",
    "print(numeric_cols)"
   ]
  },
  {
   "cell_type": "code",
   "execution_count": 113,
   "metadata": {},
   "outputs": [
    {
     "name": "stdout",
     "output_type": "stream",
     "text": [
      "<class 'pandas.core.frame.DataFrame'>\n",
      "RangeIndex: 25392 entries, 0 to 25391\n",
      "Data columns (total 40 columns):\n",
      " #   Column                Non-Null Count  Dtype  \n",
      "---  ------                --------------  -----  \n",
      " 0   type                  25360 non-null  object \n",
      " 1   name                  25390 non-null  object \n",
      " 2   appid                 25392 non-null  int64  \n",
      " 3   required_age          25360 non-null  float64\n",
      " 4   free                  25360 non-null  object \n",
      " 5   detailed_description  25349 non-null  object \n",
      " 6   about_the_game        25349 non-null  object \n",
      " 7   short_description     25349 non-null  object \n",
      " 8   supported_languages   25349 non-null  object \n",
      " 9   pc_requirements       25360 non-null  object \n",
      " 10  mac_requirements      25360 non-null  object \n",
      " 11  linux_requirements    25360 non-null  object \n",
      " 12  developers            25276 non-null  object \n",
      " 13  publishers            25360 non-null  object \n",
      " 14  price_overview        20461 non-null  object \n",
      " 15  packages              20870 non-null  object \n",
      " 16  package_groups        25360 non-null  object \n",
      " 17  platforms             25360 non-null  object \n",
      " 18  catagories            24991 non-null  object \n",
      " 19  genres                25313 non-null  object \n",
      " 20  achievements          14905 non-null  object \n",
      " 21  release_date          25360 non-null  object \n",
      " 22  content_descriptors   25360 non-null  object \n",
      " 23  developer             25288 non-null  object \n",
      " 24  publisher             25304 non-null  object \n",
      " 25  positive              25392 non-null  int64  \n",
      " 26  negative              25392 non-null  int64  \n",
      " 27  userscore             25392 non-null  int64  \n",
      " 28  owners                25392 non-null  object \n",
      " 29  average_forever       25392 non-null  int64  \n",
      " 30  average_2weeks        25392 non-null  int64  \n",
      " 31  median_forever        25392 non-null  int64  \n",
      " 32  median_2weeks         25392 non-null  int64  \n",
      " 33  price                 25388 non-null  float64\n",
      " 34  initialprice          25388 non-null  float64\n",
      " 35  discount              25388 non-null  float64\n",
      " 36  languages             25372 non-null  object \n",
      " 37  genre                 25265 non-null  object \n",
      " 38  ccu                   25392 non-null  int64  \n",
      " 39  tags                  25392 non-null  object \n",
      "dtypes: float64(4), int64(9), object(27)\n",
      "memory usage: 7.7+ MB\n"
     ]
    }
   ],
   "source": [
    "df.info()"
   ]
  },
  {
   "cell_type": "code",
   "execution_count": 114,
   "metadata": {},
   "outputs": [
    {
     "data": {
      "text/plain": [
       "Text(0.5, 0, 'Feature Columns')"
      ]
     },
     "execution_count": 114,
     "metadata": {},
     "output_type": "execute_result"
    },
    {
     "data": {
      "image/png": "[encoded data removed]",
      "text/plain": [
       "<Figure size 1008x504 with 1 Axes>"
      ]
     },
     "metadata": {
      "needs_background": "light"
     },
     "output_type": "display_data"
    }
   ],
   "source": [
    "# Looking at remaining null values with a graph \n",
    "\n",
    "df_na = np.sum(df.isnull())\n",
    "df_na[df_na > 0]\n",
    "\n",
    "plt.figure(figsize=(14, 7))\n",
    "bar_na = df_na.nlargest(26).plot(kind='bar', color = 'teal')\n",
    "bar_na.set_ylabel('Frequency', fontsize=24)\n",
    "bar_na.set_title(\"Feature Columns with Missing Values\", fontsize=30)\n",
    "bar_na.set_xlabel(\"Feature Columns\", fontsize=24)"
   ]
  },
  {
   "cell_type": "code",
   "execution_count": 116,
   "metadata": {},
   "outputs": [],
   "source": [
    "# Dropping na under name column\n",
    "df.dropna(subset=['name'], inplace=True)  "
   ]
  },
  {
   "cell_type": "markdown",
   "metadata": {},
   "source": [
    "Price Overview, platforms"
   ]
  },
  {
   "cell_type": "code",
   "execution_count": 117,
   "metadata": {},
   "outputs": [],
   "source": [
    "df.drop(columns=['price_overview', 'packages', 'publisher', 'supported_languages', 'genres', 'developer', 'achievements', 'type'], inplace=True) "
   ]
  },
  {
   "cell_type": "code",
   "execution_count": 118,
   "metadata": {},
   "outputs": [
    {
     "data": {
      "text/plain": [
       "0    {'windows': True, 'mac': True, 'linux': True}\n",
       "1    {'windows': True, 'mac': True, 'linux': True}\n",
       "2    {'windows': True, 'mac': True, 'linux': True}\n",
       "3    {'windows': True, 'mac': True, 'linux': True}\n",
       "4    {'windows': True, 'mac': True, 'linux': True}\n",
       "Name: platforms, dtype: object"
      ]
     },
     "execution_count": 118,
     "metadata": {},
     "output_type": "execute_result"
    }
   ],
   "source": [
    "df['platforms'].head()"
   ]
  },
  {
   "cell_type": "code",
   "execution_count": 119,
   "metadata": {},
   "outputs": [
    {
     "data": {
      "text/plain": [
       "32"
      ]
     },
     "execution_count": 119,
     "metadata": {},
     "output_type": "execute_result"
    }
   ],
   "source": [
    "df['platforms'].isnull().sum()"
   ]
  },
  {
   "cell_type": "code",
   "execution_count": 120,
   "metadata": {},
   "outputs": [
    {
     "name": "stdout",
     "output_type": "stream",
     "text": [
      "['windows', 'mac']\n"
     ]
    },
    {
     "data": {
      "text/plain": [
       "'windows;mac'"
      ]
     },
     "execution_count": 120,
     "metadata": {},
     "output_type": "execute_result"
    }
   ],
   "source": [
    "platforms = {'windows': True, 'mac': True, 'linux': False}\n",
    "\n",
    "# list comprehension\n",
    "print([x for x in platforms.keys() if platforms[x]])\n",
    "\n",
    "# using list comprehension in join\n",
    "';'.join(x for x in platforms.keys() if platforms[x])"
   ]
  },
  {
   "cell_type": "code",
   "execution_count": 121,
   "metadata": {},
   "outputs": [],
   "source": [
    "df.dropna(subset=['platforms'], inplace=True)  "
   ]
  },
  {
   "cell_type": "code",
   "execution_count": 122,
   "metadata": {},
   "outputs": [
    {
     "data": {
      "text/plain": [
       "windows              17265\n",
       "windows;mac;linux     4180\n",
       "windows;mac           3273\n",
       "windows;linux          636\n",
       "mac                      3\n",
       "mac;linux                1\n",
       "Name: platforms, dtype: int64"
      ]
     },
     "execution_count": 122,
     "metadata": {},
     "output_type": "execute_result"
    }
   ],
   "source": [
    "def process_platforms(df):\n",
    "    # evaluate values in platforms column, so can index into dictionaries\n",
    "    df = df.copy()\n",
    "    \n",
    "    def parse_platforms(x):\n",
    "        \n",
    "        d = literal_eval(x)\n",
    "        \n",
    "        return ';'.join(platform for platform in d.keys() if d[platform])\n",
    "    \n",
    "    df['platforms'] = df['platforms'].apply(parse_platforms)\n",
    "    \n",
    "    return df\n",
    "\n",
    "\n",
    "df = process_platforms(df)\n",
    "df['platforms'].value_counts()"
   ]
  },
  {
   "cell_type": "code",
   "execution_count": 131,
   "metadata": {},
   "outputs": [],
   "source": [
    "df.dropna(subset=['detailed_description', 'short_description', 'developers', 'genre'], inplace=True)  "
   ]
  },
  {
   "cell_type": "code",
   "execution_count": 72,
   "metadata": {},
   "outputs": [
    {
     "name": "stdout",
     "output_type": "stream",
     "text": [
      "['name' 'free' 'detailed_description' 'about_the_game' 'short_description'\n",
      " 'supported_languages' 'pc_requirements' 'mac_requirements'\n",
      " 'linux_requirements' 'developers' 'publishers' 'price_overview'\n",
      " 'packages' 'package_groups' 'platforms' 'catagories' 'genres'\n",
      " 'achievements' 'release_date' 'content_descriptors' 'developer'\n",
      " 'publisher' 'owners' 'languages' 'genre' 'tags']\n"
     ]
    }
   ],
   "source": [
    "# select non numeric columns\n",
    "df_non_numeric = df.select_dtypes(exclude=[np.number])\n",
    "non_numeric_cols = df_non_numeric.columns.values\n",
    "print(non_numeric_cols)"
   ]
  },
  {
   "cell_type": "code",
   "execution_count": 136,
   "metadata": {},
   "outputs": [],
   "source": [
    "df[\"catagories\"].fillna(\"missing\", inplace = True)"
   ]
  },
  {
   "cell_type": "code",
   "execution_count": 137,
   "metadata": {},
   "outputs": [
    {
     "data": {
      "text/plain": [
       "name                    0\n",
       "appid                   0\n",
       "required_age            0\n",
       "free                    0\n",
       "detailed_description    0\n",
       "about_the_game          0\n",
       "short_description       0\n",
       "pc_requirements         0\n",
       "mac_requirements        0\n",
       "linux_requirements      0\n",
       "developers              0\n",
       "publishers              0\n",
       "package_groups          0\n",
       "platforms               0\n",
       "catagories              0\n",
       "release_date            0\n",
       "content_descriptors     0\n",
       "positive                0\n",
       "negative                0\n",
       "userscore               0\n",
       "owners                  0\n",
       "average_forever         0\n",
       "average_2weeks          0\n",
       "median_forever          0\n",
       "median_2weeks           0\n",
       "price                   0\n",
       "initialprice            0\n",
       "discount                0\n",
       "languages               0\n",
       "genre                   0\n",
       "ccu                     0\n",
       "tags                    0\n",
       "dtype: int64"
      ]
     },
     "execution_count": 137,
     "metadata": {},
     "output_type": "execute_result"
    }
   ],
   "source": [
    "df.isnull().sum()"
   ]
  },
  {
   "cell_type": "code",
   "execution_count": 138,
   "metadata": {},
   "outputs": [],
   "source": [
    "df.to_csv('merged_data_clean.csv', index=False)"
   ]
  }
 ],
 "metadata": {
  "kernelspec": {
   "display_name": "Python 3",
   "language": "python",
   "name": "python3"
  },
  "language_info": {
   "codemirror_mode": {
    "name": "ipython",
    "version": 3
   },
   "file_extension": ".py",
   "mimetype": "text/x-python",
   "name": "python",
   "nbconvert_exporter": "python",
   "pygments_lexer": "ipython3",
   "version": "3.8.3"
  }
 },
 "nbformat": 4,
 "nbformat_minor": 4
}
