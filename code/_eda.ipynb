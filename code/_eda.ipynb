{
 "cells": [
  {
   "cell_type": "markdown",
   "metadata": {},
   "source": [
    "# Predicting STEAM User Engagement"
   ]
  },
  {
   "cell_type": "markdown",
   "metadata": {},
   "source": [
    "# Exploratory Data Analysis"
   ]
  },
  {
   "cell_type": "code",
   "execution_count": 571,
   "metadata": {},
   "outputs": [],
   "source": [
    "# Imports \n",
    "\n",
    "import pandas as pd\n",
    "import os\n",
    "import glob\n",
    "import numpy as np\n",
    "import seaborn as sns\n",
    "\n",
    "import matplotlib.pyplot as plt\n",
    "import matplotlib.mlab as mlab\n",
    "import matplotlib\n",
    "plt.style.use('ggplot')\n",
    "from matplotlib.pyplot import figure\n",
    "\n",
    "%matplotlib inline\n",
    "matplotlib.rcParams['figure.figsize'] = (12,8)\n",
    "\n",
    "pd.options.mode.chained_assignment = None\n",
    "from ast import literal_eval\n",
    "import datetime\n",
    "import re\n",
    "import time\n",
    "import sys\n",
    "import json\n",
    "from sklearn.preprocessing import LabelEncoder\n",
    "\n",
    "\n",
    "import warnings\n",
    "warnings.filterwarnings('ignore')"
   ]
  },
  {
   "cell_type": "code",
   "execution_count": 328,
   "metadata": {},
   "outputs": [],
   "source": [
    "# reading in the cleaned merged data\n",
    "df = pd.read_csv('merged_data_clean.csv')"
   ]
  },
  {
   "cell_type": "code",
   "execution_count": 329,
   "metadata": {},
   "outputs": [
    {
     "name": "stdout",
     "output_type": "stream",
     "text": [
      "Data Shape: (25232, 32)\n",
      "Data Types: name                     object\n",
      "appid                     int64\n",
      "required_age            float64\n",
      "free                       bool\n",
      "detailed_description     object\n",
      "about_the_game           object\n",
      "short_description        object\n",
      "pc_requirements          object\n",
      "mac_requirements         object\n",
      "linux_requirements       object\n",
      "developers               object\n",
      "publishers               object\n",
      "package_groups           object\n",
      "platforms                object\n",
      "catagories               object\n",
      "release_date             object\n",
      "content_descriptors      object\n",
      "positive                  int64\n",
      "negative                  int64\n",
      "userscore                 int64\n",
      "owners                   object\n",
      "average_forever           int64\n",
      "average_2weeks            int64\n",
      "median_forever            int64\n",
      "median_2weeks             int64\n",
      "price                   float64\n",
      "initialprice            float64\n",
      "discount                float64\n",
      "languages                object\n",
      "genre                    object\n",
      "ccu                       int64\n",
      "tags                     object\n",
      "dtype: object\n"
     ]
    }
   ],
   "source": [
    "# print out number of rows and columns\n",
    "print('Data Shape:', df.shape)\n",
    "print('Data Types:', df.dtypes)"
   ]
  },
  {
   "cell_type": "code",
   "execution_count": 330,
   "metadata": {},
   "outputs": [
    {
     "data": {
      "text/html": [
       "<div>\n",
       "<style scoped>\n",
       "    .dataframe tbody tr th:only-of-type {\n",
       "        vertical-align: middle;\n",
       "    }\n",
       "\n",
       "    .dataframe tbody tr th {\n",
       "        vertical-align: top;\n",
       "    }\n",
       "\n",
       "    .dataframe thead th {\n",
       "        text-align: right;\n",
       "    }\n",
       "</style>\n",
       "<table border=\"1\" class=\"dataframe\">\n",
       "  <thead>\n",
       "    <tr style=\"text-align: right;\">\n",
       "      <th></th>\n",
       "      <th>name</th>\n",
       "      <th>appid</th>\n",
       "      <th>required_age</th>\n",
       "      <th>free</th>\n",
       "      <th>detailed_description</th>\n",
       "      <th>about_the_game</th>\n",
       "      <th>short_description</th>\n",
       "      <th>pc_requirements</th>\n",
       "      <th>mac_requirements</th>\n",
       "      <th>linux_requirements</th>\n",
       "      <th>...</th>\n",
       "      <th>average_2weeks</th>\n",
       "      <th>median_forever</th>\n",
       "      <th>median_2weeks</th>\n",
       "      <th>price</th>\n",
       "      <th>initialprice</th>\n",
       "      <th>discount</th>\n",
       "      <th>languages</th>\n",
       "      <th>genre</th>\n",
       "      <th>ccu</th>\n",
       "      <th>tags</th>\n",
       "    </tr>\n",
       "  </thead>\n",
       "  <tbody>\n",
       "    <tr>\n",
       "      <th>0</th>\n",
       "      <td>Team Fortress Classic</td>\n",
       "      <td>20</td>\n",
       "      <td>0.0</td>\n",
       "      <td>False</td>\n",
       "      <td>One of the most popular online action games of...</td>\n",
       "      <td>One of the most popular online action games of...</td>\n",
       "      <td>One of the most popular online action games of...</td>\n",
       "      <td>{'minimum': '\\r\\n\\t\\t\\t&lt;p&gt;&lt;strong&gt;Minimum:&lt;/st...</td>\n",
       "      <td>{'minimum': 'Minimum: OS X  Snow Leopard 10.6....</td>\n",
       "      <td>{'minimum': 'Minimum: Linux Ubuntu 12.04, Dual...</td>\n",
       "      <td>...</td>\n",
       "      <td>0</td>\n",
       "      <td>19</td>\n",
       "      <td>0</td>\n",
       "      <td>499.0</td>\n",
       "      <td>499.0</td>\n",
       "      <td>0.0</td>\n",
       "      <td>English, French, German, Italian, Spanish - Sp...</td>\n",
       "      <td>Action Games</td>\n",
       "      <td>98</td>\n",
       "      <td>{'Action': 738, 'FPS': 300, 'Multiplayer': 253...</td>\n",
       "    </tr>\n",
       "    <tr>\n",
       "      <th>1</th>\n",
       "      <td>Day of Defeat</td>\n",
       "      <td>30</td>\n",
       "      <td>0.0</td>\n",
       "      <td>False</td>\n",
       "      <td>Enlist in an intense brand of Axis vs. Allied ...</td>\n",
       "      <td>Enlist in an intense brand of Axis vs. Allied ...</td>\n",
       "      <td>Enlist in an intense brand of Axis vs. Allied ...</td>\n",
       "      <td>{'minimum': '\\r\\n\\t\\t\\t&lt;p&gt;&lt;strong&gt;Minimum:&lt;/st...</td>\n",
       "      <td>{'minimum': 'Minimum: OS X  Snow Leopard 10.6....</td>\n",
       "      <td>{'minimum': 'Minimum: Linux Ubuntu 12.04, Dual...</td>\n",
       "      <td>...</td>\n",
       "      <td>0</td>\n",
       "      <td>47</td>\n",
       "      <td>0</td>\n",
       "      <td>499.0</td>\n",
       "      <td>499.0</td>\n",
       "      <td>0.0</td>\n",
       "      <td>English, French, German, Italian, Spanish - Spain</td>\n",
       "      <td>Action Games</td>\n",
       "      <td>145</td>\n",
       "      <td>{'FPS': 778, 'World War II': 244, 'Multiplayer...</td>\n",
       "    </tr>\n",
       "    <tr>\n",
       "      <th>2</th>\n",
       "      <td>Deathmatch Classic</td>\n",
       "      <td>40</td>\n",
       "      <td>0.0</td>\n",
       "      <td>False</td>\n",
       "      <td>Enjoy fast-paced multiplayer gaming with Death...</td>\n",
       "      <td>Enjoy fast-paced multiplayer gaming with Death...</td>\n",
       "      <td>Enjoy fast-paced multiplayer gaming with Death...</td>\n",
       "      <td>{'minimum': '\\r\\n\\t\\t\\t&lt;p&gt;&lt;strong&gt;Minimum:&lt;/st...</td>\n",
       "      <td>{'minimum': 'Minimum: OS X  Snow Leopard 10.6....</td>\n",
       "      <td>{'minimum': 'Minimum: Linux Ubuntu 12.04, Dual...</td>\n",
       "      <td>...</td>\n",
       "      <td>0</td>\n",
       "      <td>4</td>\n",
       "      <td>0</td>\n",
       "      <td>499.0</td>\n",
       "      <td>499.0</td>\n",
       "      <td>0.0</td>\n",
       "      <td>English, French, German, Italian, Spanish - Sp...</td>\n",
       "      <td>Action Games</td>\n",
       "      <td>6</td>\n",
       "      <td>{'Action': 626, 'FPS': 136, 'Classic': 104, 'M...</td>\n",
       "    </tr>\n",
       "    <tr>\n",
       "      <th>3</th>\n",
       "      <td>Half-Life: Opposing Force</td>\n",
       "      <td>50</td>\n",
       "      <td>0.0</td>\n",
       "      <td>False</td>\n",
       "      <td>Return to the Black Mesa Research Facility as ...</td>\n",
       "      <td>Return to the Black Mesa Research Facility as ...</td>\n",
       "      <td>Return to the Black Mesa Research Facility as ...</td>\n",
       "      <td>{'minimum': '\\r\\n\\t\\t\\t&lt;p&gt;&lt;strong&gt;Minimum:&lt;/st...</td>\n",
       "      <td>{'minimum': 'Minimum: OS X  Snow Leopard 10.6....</td>\n",
       "      <td>{'minimum': 'Minimum: Linux Ubuntu 12.04, Dual...</td>\n",
       "      <td>...</td>\n",
       "      <td>0</td>\n",
       "      <td>123</td>\n",
       "      <td>0</td>\n",
       "      <td>499.0</td>\n",
       "      <td>499.0</td>\n",
       "      <td>0.0</td>\n",
       "      <td>English, French, German, Korean</td>\n",
       "      <td>Action Games</td>\n",
       "      <td>156</td>\n",
       "      <td>{'FPS': 871, 'Action': 312, 'Classic': 240, 'S...</td>\n",
       "    </tr>\n",
       "  </tbody>\n",
       "</table>\n",
       "<p>4 rows × 32 columns</p>\n",
       "</div>"
      ],
      "text/plain": [
       "                        name  appid  required_age   free  \\\n",
       "0      Team Fortress Classic     20           0.0  False   \n",
       "1              Day of Defeat     30           0.0  False   \n",
       "2         Deathmatch Classic     40           0.0  False   \n",
       "3  Half-Life: Opposing Force     50           0.0  False   \n",
       "\n",
       "                                detailed_description  \\\n",
       "0  One of the most popular online action games of...   \n",
       "1  Enlist in an intense brand of Axis vs. Allied ...   \n",
       "2  Enjoy fast-paced multiplayer gaming with Death...   \n",
       "3  Return to the Black Mesa Research Facility as ...   \n",
       "\n",
       "                                      about_the_game  \\\n",
       "0  One of the most popular online action games of...   \n",
       "1  Enlist in an intense brand of Axis vs. Allied ...   \n",
       "2  Enjoy fast-paced multiplayer gaming with Death...   \n",
       "3  Return to the Black Mesa Research Facility as ...   \n",
       "\n",
       "                                   short_description  \\\n",
       "0  One of the most popular online action games of...   \n",
       "1  Enlist in an intense brand of Axis vs. Allied ...   \n",
       "2  Enjoy fast-paced multiplayer gaming with Death...   \n",
       "3  Return to the Black Mesa Research Facility as ...   \n",
       "\n",
       "                                     pc_requirements  \\\n",
       "0  {'minimum': '\\r\\n\\t\\t\\t<p><strong>Minimum:</st...   \n",
       "1  {'minimum': '\\r\\n\\t\\t\\t<p><strong>Minimum:</st...   \n",
       "2  {'minimum': '\\r\\n\\t\\t\\t<p><strong>Minimum:</st...   \n",
       "3  {'minimum': '\\r\\n\\t\\t\\t<p><strong>Minimum:</st...   \n",
       "\n",
       "                                    mac_requirements  \\\n",
       "0  {'minimum': 'Minimum: OS X  Snow Leopard 10.6....   \n",
       "1  {'minimum': 'Minimum: OS X  Snow Leopard 10.6....   \n",
       "2  {'minimum': 'Minimum: OS X  Snow Leopard 10.6....   \n",
       "3  {'minimum': 'Minimum: OS X  Snow Leopard 10.6....   \n",
       "\n",
       "                                  linux_requirements  ... average_2weeks  \\\n",
       "0  {'minimum': 'Minimum: Linux Ubuntu 12.04, Dual...  ...              0   \n",
       "1  {'minimum': 'Minimum: Linux Ubuntu 12.04, Dual...  ...              0   \n",
       "2  {'minimum': 'Minimum: Linux Ubuntu 12.04, Dual...  ...              0   \n",
       "3  {'minimum': 'Minimum: Linux Ubuntu 12.04, Dual...  ...              0   \n",
       "\n",
       "  median_forever median_2weeks  price initialprice discount  \\\n",
       "0             19             0  499.0        499.0      0.0   \n",
       "1             47             0  499.0        499.0      0.0   \n",
       "2              4             0  499.0        499.0      0.0   \n",
       "3            123             0  499.0        499.0      0.0   \n",
       "\n",
       "                                           languages         genre  ccu  \\\n",
       "0  English, French, German, Italian, Spanish - Sp...  Action Games   98   \n",
       "1  English, French, German, Italian, Spanish - Spain  Action Games  145   \n",
       "2  English, French, German, Italian, Spanish - Sp...  Action Games    6   \n",
       "3                    English, French, German, Korean  Action Games  156   \n",
       "\n",
       "                                                tags  \n",
       "0  {'Action': 738, 'FPS': 300, 'Multiplayer': 253...  \n",
       "1  {'FPS': 778, 'World War II': 244, 'Multiplayer...  \n",
       "2  {'Action': 626, 'FPS': 136, 'Classic': 104, 'M...  \n",
       "3  {'FPS': 871, 'Action': 312, 'Classic': 240, 'S...  \n",
       "\n",
       "[4 rows x 32 columns]"
      ]
     },
     "execution_count": 330,
     "metadata": {},
     "output_type": "execute_result"
    }
   ],
   "source": [
    "df.head(4)"
   ]
  },
  {
   "cell_type": "code",
   "execution_count": 331,
   "metadata": {},
   "outputs": [
    {
     "name": "stdout",
     "output_type": "stream",
     "text": [
      "Duplicate rows to remove: 0\n"
     ]
    },
    {
     "data": {
      "text/html": [
       "<div>\n",
       "<style scoped>\n",
       "    .dataframe tbody tr th:only-of-type {\n",
       "        vertical-align: middle;\n",
       "    }\n",
       "\n",
       "    .dataframe tbody tr th {\n",
       "        vertical-align: top;\n",
       "    }\n",
       "\n",
       "    .dataframe thead th {\n",
       "        text-align: right;\n",
       "    }\n",
       "</style>\n",
       "<table border=\"1\" class=\"dataframe\">\n",
       "  <thead>\n",
       "    <tr style=\"text-align: right;\">\n",
       "      <th></th>\n",
       "      <th>name</th>\n",
       "      <th>appid</th>\n",
       "      <th>required_age</th>\n",
       "      <th>free</th>\n",
       "      <th>detailed_description</th>\n",
       "      <th>about_the_game</th>\n",
       "      <th>short_description</th>\n",
       "      <th>pc_requirements</th>\n",
       "      <th>mac_requirements</th>\n",
       "      <th>linux_requirements</th>\n",
       "      <th>...</th>\n",
       "      <th>average_2weeks</th>\n",
       "      <th>median_forever</th>\n",
       "      <th>median_2weeks</th>\n",
       "      <th>price</th>\n",
       "      <th>initialprice</th>\n",
       "      <th>discount</th>\n",
       "      <th>languages</th>\n",
       "      <th>genre</th>\n",
       "      <th>ccu</th>\n",
       "      <th>tags</th>\n",
       "    </tr>\n",
       "  </thead>\n",
       "  <tbody>\n",
       "  </tbody>\n",
       "</table>\n",
       "<p>0 rows × 32 columns</p>\n",
       "</div>"
      ],
      "text/plain": [
       "Empty DataFrame\n",
       "Columns: [name, appid, required_age, free, detailed_description, about_the_game, short_description, pc_requirements, mac_requirements, linux_requirements, developers, publishers, package_groups, platforms, catagories, release_date, content_descriptors, positive, negative, userscore, owners, average_forever, average_2weeks, median_forever, median_2weeks, price, initialprice, discount, languages, genre, ccu, tags]\n",
       "Index: []\n",
       "\n",
       "[0 rows x 32 columns]"
      ]
     },
     "execution_count": 331,
     "metadata": {},
     "output_type": "execute_result"
    }
   ],
   "source": [
    "# Check for duplicated rows\n",
    "duplicated_rows = df[df.duplicated()]\n",
    "\n",
    "print('Duplicate rows to remove:', duplicated_rows.shape[0])\n",
    "\n",
    "duplicated_rows.head(2)"
   ]
  },
  {
   "cell_type": "markdown",
   "metadata": {},
   "source": [
    "## Required Age"
   ]
  },
  {
   "cell_type": "markdown",
   "metadata": {},
   "source": [
    "Looking into the required age feature, there are many outliers. After filling the null values with the age mode, I rebin the age ratings in line with the ERSB rating system. \n",
    "\n",
    "https://www.internetmatters.org/resources/video-games-age-ratings-explained/ "
   ]
  },
  {
   "cell_type": "code",
   "execution_count": 332,
   "metadata": {},
   "outputs": [
    {
     "data": {
      "text/plain": [
       "0.0     24338\n",
       "1.0         1\n",
       "5.0         1\n",
       "6.0         3\n",
       "7.0         2\n",
       "10.0       16\n",
       "12.0       17\n",
       "13.0      115\n",
       "14.0        2\n",
       "15.0        6\n",
       "16.0       45\n",
       "17.0      550\n",
       "18.0      134\n",
       "21.0        2\n",
       "Name: required_age, dtype: int64"
      ]
     },
     "execution_count": 332,
     "metadata": {},
     "output_type": "execute_result"
    }
   ],
   "source": [
    "df['required_age'].value_counts().sort_index()"
   ]
  },
  {
   "cell_type": "code",
   "execution_count": 333,
   "metadata": {},
   "outputs": [
    {
     "name": "stdout",
     "output_type": "stream",
     "text": [
      "Required Age mean:0.576212745719721\n",
      "Required Age mode:0    0.0\n",
      "dtype: float64\n"
     ]
    }
   ],
   "source": [
    "mean = df['required_age'].mean()\n",
    "mode = df['required_age'].mode()\n",
    "print(f'Required Age mean:{mean}')\n",
    "print(f'Required Age mode:{mode}')"
   ]
  },
  {
   "cell_type": "code",
   "execution_count": 334,
   "metadata": {},
   "outputs": [],
   "source": [
    "df['required_age'] = df['required_age'].fillna(0)"
   ]
  },
  {
   "cell_type": "code",
   "execution_count": 335,
   "metadata": {},
   "outputs": [],
   "source": [
    "# Code refrence from https://stackoverflow.com/questions/52753613/grouping-categorising-ages-column-in-python-pandas\n",
    "bins = [-1, 0, 3, 7, 12, 16, 20]\n",
    "labels = [0, 3, 7, 12, 16, 18]\n",
    "\n",
    "df['required_age'] = pd.cut(df['required_age'], bins=bins, labels=labels)"
   ]
  },
  {
   "cell_type": "code",
   "execution_count": 336,
   "metadata": {},
   "outputs": [
    {
     "data": {
      "text/plain": [
       "0     24338\n",
       "18      684\n",
       "16      168\n",
       "12       33\n",
       "7         6\n",
       "3         1\n",
       "Name: required_age, dtype: int64"
      ]
     },
     "execution_count": 336,
     "metadata": {},
     "output_type": "execute_result"
    }
   ],
   "source": [
    "df['required_age'].value_counts()"
   ]
  },
  {
   "cell_type": "markdown",
   "metadata": {},
   "source": [
    "## Languages"
   ]
  },
  {
   "cell_type": "code",
   "execution_count": 340,
   "metadata": {},
   "outputs": [
    {
     "data": {
      "text/plain": [
       "English                                              12281\n",
       "English, Russian                                       826\n",
       "English, Japanese                                      492\n",
       "English, Simplified Chinese                            462\n",
       "English, Not supported, Simplified Chinese             364\n",
       "English, French, Italian, German, Spanish - Spain      347\n",
       "English, German                                        285\n",
       "English, French                                        196\n",
       "English, French, German, Italian, Spanish - Spain      171\n",
       "English, Simplified Chinese, Traditional Chinese       159\n",
       "Name: languages, dtype: int64"
      ]
     },
     "execution_count": 340,
     "metadata": {},
     "output_type": "execute_result"
    }
   ],
   "source": [
    "# Checking the unique value counts in languages feature\n",
    "df['languages'].value_counts().head(10)"
   ]
  },
  {
   "cell_type": "code",
   "execution_count": 341,
   "metadata": {},
   "outputs": [],
   "source": [
    "# changing the variable into a binary feature with english as value 1 and not english with value 0. \n",
    "df['english'] = df['languages'].apply(lambda x: 1 if 'english' in x.lower() else 0)"
   ]
  },
  {
   "cell_type": "code",
   "execution_count": 342,
   "metadata": {},
   "outputs": [
    {
     "data": {
      "text/html": [
       "<div>\n",
       "<style scoped>\n",
       "    .dataframe tbody tr th:only-of-type {\n",
       "        vertical-align: middle;\n",
       "    }\n",
       "\n",
       "    .dataframe tbody tr th {\n",
       "        vertical-align: top;\n",
       "    }\n",
       "\n",
       "    .dataframe thead th {\n",
       "        text-align: right;\n",
       "    }\n",
       "</style>\n",
       "<table border=\"1\" class=\"dataframe\">\n",
       "  <thead>\n",
       "    <tr style=\"text-align: right;\">\n",
       "      <th></th>\n",
       "      <th>name</th>\n",
       "      <th>english</th>\n",
       "    </tr>\n",
       "  </thead>\n",
       "  <tbody>\n",
       "    <tr>\n",
       "      <th>0</th>\n",
       "      <td>Team Fortress Classic</td>\n",
       "      <td>1</td>\n",
       "    </tr>\n",
       "    <tr>\n",
       "      <th>1</th>\n",
       "      <td>Day of Defeat</td>\n",
       "      <td>1</td>\n",
       "    </tr>\n",
       "    <tr>\n",
       "      <th>2</th>\n",
       "      <td>Deathmatch Classic</td>\n",
       "      <td>1</td>\n",
       "    </tr>\n",
       "    <tr>\n",
       "      <th>3</th>\n",
       "      <td>Half-Life: Opposing Force</td>\n",
       "      <td>1</td>\n",
       "    </tr>\n",
       "    <tr>\n",
       "      <th>4</th>\n",
       "      <td>Ricochet</td>\n",
       "      <td>1</td>\n",
       "    </tr>\n",
       "  </tbody>\n",
       "</table>\n",
       "</div>"
      ],
      "text/plain": [
       "                        name  english\n",
       "0      Team Fortress Classic        1\n",
       "1              Day of Defeat        1\n",
       "2         Deathmatch Classic        1\n",
       "3  Half-Life: Opposing Force        1\n",
       "4                   Ricochet        1"
      ]
     },
     "execution_count": 342,
     "metadata": {},
     "output_type": "execute_result"
    }
   ],
   "source": [
    "# Checking out the column \n",
    "df[['name', 'english']].head()"
   ]
  },
  {
   "cell_type": "markdown",
   "metadata": {},
   "source": [
    "### Puplisher and Developer"
   ]
  },
  {
   "cell_type": "code",
   "execution_count": 343,
   "metadata": {},
   "outputs": [
    {
     "name": "stdout",
     "output_type": "stream",
     "text": [
      "Rows in developers column with multiple values: 1846\n",
      "Rows in publishers column with multiple values: 995\n"
     ]
    }
   ],
   "source": [
    "def developer_publisher(df):\n",
    "\n",
    "      for col in ['developers', 'publishers']:\n",
    "        df[col] = df[col].apply(lambda x: literal_eval(x))\n",
    "        \n",
    "        # filter dataframe to rows with lists longer than 1, and store the number of rows\n",
    "        num_rows = df[df[col].str.len() > 1].shape[0]\n",
    "        \n",
    "        print('Rows in {} column with multiple values:'.format(col), num_rows)\n",
    "\n",
    "developer_publisher(df)"
   ]
  },
  {
   "cell_type": "markdown",
   "metadata": {},
   "source": []
  },
  {
   "cell_type": "code",
   "execution_count": 344,
   "metadata": {},
   "outputs": [
    {
     "data": {
      "text/html": [
       "<div>\n",
       "<style scoped>\n",
       "    .dataframe tbody tr th:only-of-type {\n",
       "        vertical-align: middle;\n",
       "    }\n",
       "\n",
       "    .dataframe tbody tr th {\n",
       "        vertical-align: top;\n",
       "    }\n",
       "\n",
       "    .dataframe thead th {\n",
       "        text-align: right;\n",
       "    }\n",
       "</style>\n",
       "<table border=\"1\" class=\"dataframe\">\n",
       "  <thead>\n",
       "    <tr style=\"text-align: right;\">\n",
       "      <th></th>\n",
       "      <th>name</th>\n",
       "      <th>appid</th>\n",
       "      <th>required_age</th>\n",
       "      <th>free</th>\n",
       "      <th>detailed_description</th>\n",
       "      <th>about_the_game</th>\n",
       "      <th>short_description</th>\n",
       "      <th>pc_requirements</th>\n",
       "      <th>mac_requirements</th>\n",
       "      <th>linux_requirements</th>\n",
       "      <th>...</th>\n",
       "      <th>median_forever</th>\n",
       "      <th>median_2weeks</th>\n",
       "      <th>price</th>\n",
       "      <th>initialprice</th>\n",
       "      <th>discount</th>\n",
       "      <th>languages</th>\n",
       "      <th>genre</th>\n",
       "      <th>ccu</th>\n",
       "      <th>tags</th>\n",
       "      <th>english</th>\n",
       "    </tr>\n",
       "  </thead>\n",
       "  <tbody>\n",
       "    <tr>\n",
       "      <th>0</th>\n",
       "      <td>Team Fortress Classic</td>\n",
       "      <td>20</td>\n",
       "      <td>0</td>\n",
       "      <td>False</td>\n",
       "      <td>One of the most popular online action games of...</td>\n",
       "      <td>One of the most popular online action games of...</td>\n",
       "      <td>One of the most popular online action games of...</td>\n",
       "      <td>{'minimum': '\\r\\n\\t\\t\\t&lt;p&gt;&lt;strong&gt;Minimum:&lt;/st...</td>\n",
       "      <td>{'minimum': 'Minimum: OS X  Snow Leopard 10.6....</td>\n",
       "      <td>{'minimum': 'Minimum: Linux Ubuntu 12.04, Dual...</td>\n",
       "      <td>...</td>\n",
       "      <td>19</td>\n",
       "      <td>0</td>\n",
       "      <td>499.0</td>\n",
       "      <td>499.0</td>\n",
       "      <td>0.0</td>\n",
       "      <td>English, French, German, Italian, Spanish - Sp...</td>\n",
       "      <td>Action Games</td>\n",
       "      <td>98</td>\n",
       "      <td>{'Action': 738, 'FPS': 300, 'Multiplayer': 253...</td>\n",
       "      <td>1</td>\n",
       "    </tr>\n",
       "    <tr>\n",
       "      <th>1</th>\n",
       "      <td>Day of Defeat</td>\n",
       "      <td>30</td>\n",
       "      <td>0</td>\n",
       "      <td>False</td>\n",
       "      <td>Enlist in an intense brand of Axis vs. Allied ...</td>\n",
       "      <td>Enlist in an intense brand of Axis vs. Allied ...</td>\n",
       "      <td>Enlist in an intense brand of Axis vs. Allied ...</td>\n",
       "      <td>{'minimum': '\\r\\n\\t\\t\\t&lt;p&gt;&lt;strong&gt;Minimum:&lt;/st...</td>\n",
       "      <td>{'minimum': 'Minimum: OS X  Snow Leopard 10.6....</td>\n",
       "      <td>{'minimum': 'Minimum: Linux Ubuntu 12.04, Dual...</td>\n",
       "      <td>...</td>\n",
       "      <td>47</td>\n",
       "      <td>0</td>\n",
       "      <td>499.0</td>\n",
       "      <td>499.0</td>\n",
       "      <td>0.0</td>\n",
       "      <td>English, French, German, Italian, Spanish - Spain</td>\n",
       "      <td>Action Games</td>\n",
       "      <td>145</td>\n",
       "      <td>{'FPS': 778, 'World War II': 244, 'Multiplayer...</td>\n",
       "      <td>1</td>\n",
       "    </tr>\n",
       "    <tr>\n",
       "      <th>2</th>\n",
       "      <td>Deathmatch Classic</td>\n",
       "      <td>40</td>\n",
       "      <td>0</td>\n",
       "      <td>False</td>\n",
       "      <td>Enjoy fast-paced multiplayer gaming with Death...</td>\n",
       "      <td>Enjoy fast-paced multiplayer gaming with Death...</td>\n",
       "      <td>Enjoy fast-paced multiplayer gaming with Death...</td>\n",
       "      <td>{'minimum': '\\r\\n\\t\\t\\t&lt;p&gt;&lt;strong&gt;Minimum:&lt;/st...</td>\n",
       "      <td>{'minimum': 'Minimum: OS X  Snow Leopard 10.6....</td>\n",
       "      <td>{'minimum': 'Minimum: Linux Ubuntu 12.04, Dual...</td>\n",
       "      <td>...</td>\n",
       "      <td>4</td>\n",
       "      <td>0</td>\n",
       "      <td>499.0</td>\n",
       "      <td>499.0</td>\n",
       "      <td>0.0</td>\n",
       "      <td>English, French, German, Italian, Spanish - Sp...</td>\n",
       "      <td>Action Games</td>\n",
       "      <td>6</td>\n",
       "      <td>{'Action': 626, 'FPS': 136, 'Classic': 104, 'M...</td>\n",
       "      <td>1</td>\n",
       "    </tr>\n",
       "    <tr>\n",
       "      <th>3</th>\n",
       "      <td>Half-Life: Opposing Force</td>\n",
       "      <td>50</td>\n",
       "      <td>0</td>\n",
       "      <td>False</td>\n",
       "      <td>Return to the Black Mesa Research Facility as ...</td>\n",
       "      <td>Return to the Black Mesa Research Facility as ...</td>\n",
       "      <td>Return to the Black Mesa Research Facility as ...</td>\n",
       "      <td>{'minimum': '\\r\\n\\t\\t\\t&lt;p&gt;&lt;strong&gt;Minimum:&lt;/st...</td>\n",
       "      <td>{'minimum': 'Minimum: OS X  Snow Leopard 10.6....</td>\n",
       "      <td>{'minimum': 'Minimum: Linux Ubuntu 12.04, Dual...</td>\n",
       "      <td>...</td>\n",
       "      <td>123</td>\n",
       "      <td>0</td>\n",
       "      <td>499.0</td>\n",
       "      <td>499.0</td>\n",
       "      <td>0.0</td>\n",
       "      <td>English, French, German, Korean</td>\n",
       "      <td>Action Games</td>\n",
       "      <td>156</td>\n",
       "      <td>{'FPS': 871, 'Action': 312, 'Classic': 240, 'S...</td>\n",
       "      <td>1</td>\n",
       "    </tr>\n",
       "    <tr>\n",
       "      <th>4</th>\n",
       "      <td>Ricochet</td>\n",
       "      <td>60</td>\n",
       "      <td>0</td>\n",
       "      <td>False</td>\n",
       "      <td>A futuristic action game that challenges your ...</td>\n",
       "      <td>A futuristic action game that challenges your ...</td>\n",
       "      <td>A futuristic action game that challenges your ...</td>\n",
       "      <td>{'minimum': '\\r\\n\\t\\t\\t&lt;p&gt;&lt;strong&gt;Minimum:&lt;/st...</td>\n",
       "      <td>{'minimum': 'Minimum: OS X  Snow Leopard 10.6....</td>\n",
       "      <td>{'minimum': 'Minimum: Linux Ubuntu 12.04, Dual...</td>\n",
       "      <td>...</td>\n",
       "      <td>3</td>\n",
       "      <td>0</td>\n",
       "      <td>499.0</td>\n",
       "      <td>499.0</td>\n",
       "      <td>0.0</td>\n",
       "      <td>English, French, German, Italian, Spanish - Sp...</td>\n",
       "      <td>Action</td>\n",
       "      <td>8</td>\n",
       "      <td>{'Action': 581, 'FPS': 121, 'Multiplayer': 97,...</td>\n",
       "      <td>1</td>\n",
       "    </tr>\n",
       "    <tr>\n",
       "      <th>...</th>\n",
       "      <td>...</td>\n",
       "      <td>...</td>\n",
       "      <td>...</td>\n",
       "      <td>...</td>\n",
       "      <td>...</td>\n",
       "      <td>...</td>\n",
       "      <td>...</td>\n",
       "      <td>...</td>\n",
       "      <td>...</td>\n",
       "      <td>...</td>\n",
       "      <td>...</td>\n",
       "      <td>...</td>\n",
       "      <td>...</td>\n",
       "      <td>...</td>\n",
       "      <td>...</td>\n",
       "      <td>...</td>\n",
       "      <td>...</td>\n",
       "      <td>...</td>\n",
       "      <td>...</td>\n",
       "      <td>...</td>\n",
       "      <td>...</td>\n",
       "    </tr>\n",
       "    <tr>\n",
       "      <th>25227</th>\n",
       "      <td>Arnold</td>\n",
       "      <td>1505470</td>\n",
       "      <td>0</td>\n",
       "      <td>False</td>\n",
       "      <td>&lt;img src=\"https://cdn.akamai.steamstatic.com/s...</td>\n",
       "      <td>&lt;img src=\"https://cdn.akamai.steamstatic.com/s...</td>\n",
       "      <td>Control a spaceship and fight against treacher...</td>\n",
       "      <td>{'minimum': '&lt;strong&gt;Minimum:&lt;/strong&gt;&lt;br&gt;&lt;ul ...</td>\n",
       "      <td>none</td>\n",
       "      <td>none</td>\n",
       "      <td>...</td>\n",
       "      <td>0</td>\n",
       "      <td>0</td>\n",
       "      <td>899.0</td>\n",
       "      <td>899.0</td>\n",
       "      <td>0.0</td>\n",
       "      <td>English, French, Italian, German, Spanish - Sp...</td>\n",
       "      <td>Action Games, Adventure, Early Access</td>\n",
       "      <td>0</td>\n",
       "      <td>{'Early Access': 375, 'Action': 340, 'Puzzle':...</td>\n",
       "      <td>1</td>\n",
       "    </tr>\n",
       "    <tr>\n",
       "      <th>25228</th>\n",
       "      <td>Mage Hunters</td>\n",
       "      <td>1507640</td>\n",
       "      <td>0</td>\n",
       "      <td>False</td>\n",
       "      <td>The universe is in danger with the threat of e...</td>\n",
       "      <td>The universe is in danger with the threat of e...</td>\n",
       "      <td>Mage Hunters uses capture and elimination mech...</td>\n",
       "      <td>{'minimum': '&lt;strong&gt;Minimum:&lt;/strong&gt;&lt;br&gt;&lt;ul ...</td>\n",
       "      <td>{'minimum': '&lt;strong&gt;Minimum:&lt;/strong&gt;&lt;br&gt;&lt;ul ...</td>\n",
       "      <td>{'minimum': '&lt;strong&gt;Minimum:&lt;/strong&gt;&lt;br&gt;&lt;ul ...</td>\n",
       "      <td>...</td>\n",
       "      <td>0</td>\n",
       "      <td>0</td>\n",
       "      <td>99.0</td>\n",
       "      <td>99.0</td>\n",
       "      <td>0.0</td>\n",
       "      <td>English</td>\n",
       "      <td>Strategy</td>\n",
       "      <td>0</td>\n",
       "      <td>{'Strategy': 222, 'Board Game': 213, 'Tabletop...</td>\n",
       "      <td>1</td>\n",
       "    </tr>\n",
       "    <tr>\n",
       "      <th>25229</th>\n",
       "      <td>Club Girl</td>\n",
       "      <td>1509350</td>\n",
       "      <td>0</td>\n",
       "      <td>False</td>\n",
       "      <td>&lt;strong&gt;Club Girl&lt;/strong&gt; - You only need 4 k...</td>\n",
       "      <td>&lt;strong&gt;Club Girl&lt;/strong&gt; - You only need 4 k...</td>\n",
       "      <td>A classic game, you need to press the arrow ke...</td>\n",
       "      <td>{'minimum': '&lt;strong&gt;Minimum:&lt;/strong&gt;&lt;br&gt;&lt;ul ...</td>\n",
       "      <td>none</td>\n",
       "      <td>none</td>\n",
       "      <td>...</td>\n",
       "      <td>0</td>\n",
       "      <td>0</td>\n",
       "      <td>99.0</td>\n",
       "      <td>99.0</td>\n",
       "      <td>0.0</td>\n",
       "      <td>English</td>\n",
       "      <td>Casual, Indie, Simulation</td>\n",
       "      <td>0</td>\n",
       "      <td>{'Casual': 70, 'Simulation': 62, 'Rhythm': 62,...</td>\n",
       "      <td>1</td>\n",
       "    </tr>\n",
       "    <tr>\n",
       "      <th>25230</th>\n",
       "      <td>Bloks</td>\n",
       "      <td>1515040</td>\n",
       "      <td>0</td>\n",
       "      <td>False</td>\n",
       "      <td>&lt;strong&gt;bloks &lt;/strong&gt;is a small god-game wit...</td>\n",
       "      <td>&lt;strong&gt;bloks &lt;/strong&gt;is a small god-game wit...</td>\n",
       "      <td>bloks is a small god-game with a tetris-like m...</td>\n",
       "      <td>{'minimum': '&lt;strong&gt;Minimum:&lt;/strong&gt;&lt;br&gt;&lt;ul ...</td>\n",
       "      <td>{'minimum': '&lt;strong&gt;Minimum:&lt;/strong&gt;&lt;br&gt;&lt;ul ...</td>\n",
       "      <td>none</td>\n",
       "      <td>...</td>\n",
       "      <td>0</td>\n",
       "      <td>0</td>\n",
       "      <td>299.0</td>\n",
       "      <td>299.0</td>\n",
       "      <td>0.0</td>\n",
       "      <td>English</td>\n",
       "      <td>Casual, Indie, Simulation</td>\n",
       "      <td>0</td>\n",
       "      <td>{'Simulation': 61, 'Experimental': 51, 'Puzzle...</td>\n",
       "      <td>1</td>\n",
       "    </tr>\n",
       "    <tr>\n",
       "      <th>25231</th>\n",
       "      <td>n-body</td>\n",
       "      <td>1519770</td>\n",
       "      <td>0</td>\n",
       "      <td>False</td>\n",
       "      <td>n-body is a short, relaxing golf game in space...</td>\n",
       "      <td>n-body is a short, relaxing golf game in space...</td>\n",
       "      <td>n-body is a chill space golf videogame! Launch...</td>\n",
       "      <td>{'minimum': '&lt;strong&gt;Minimum:&lt;/strong&gt;&lt;br&gt;&lt;ul ...</td>\n",
       "      <td>{'minimum': '&lt;strong&gt;Minimum:&lt;/strong&gt;&lt;br&gt;&lt;ul ...</td>\n",
       "      <td>{'minimum': '&lt;strong&gt;Minimum:&lt;/strong&gt;&lt;br&gt;&lt;ul ...</td>\n",
       "      <td>...</td>\n",
       "      <td>0</td>\n",
       "      <td>0</td>\n",
       "      <td>299.0</td>\n",
       "      <td>299.0</td>\n",
       "      <td>0.0</td>\n",
       "      <td>English</td>\n",
       "      <td>Casual, Indie</td>\n",
       "      <td>0</td>\n",
       "      <td>{'Casual': 64, 'Experimental': 38, 'Collectath...</td>\n",
       "      <td>1</td>\n",
       "    </tr>\n",
       "  </tbody>\n",
       "</table>\n",
       "<p>25232 rows × 33 columns</p>\n",
       "</div>"
      ],
      "text/plain": [
       "                            name    appid required_age   free  \\\n",
       "0          Team Fortress Classic       20            0  False   \n",
       "1                  Day of Defeat       30            0  False   \n",
       "2             Deathmatch Classic       40            0  False   \n",
       "3      Half-Life: Opposing Force       50            0  False   \n",
       "4                       Ricochet       60            0  False   \n",
       "...                          ...      ...          ...    ...   \n",
       "25227                     Arnold  1505470            0  False   \n",
       "25228               Mage Hunters  1507640            0  False   \n",
       "25229                  Club Girl  1509350            0  False   \n",
       "25230                      Bloks  1515040            0  False   \n",
       "25231                     n-body  1519770            0  False   \n",
       "\n",
       "                                    detailed_description  \\\n",
       "0      One of the most popular online action games of...   \n",
       "1      Enlist in an intense brand of Axis vs. Allied ...   \n",
       "2      Enjoy fast-paced multiplayer gaming with Death...   \n",
       "3      Return to the Black Mesa Research Facility as ...   \n",
       "4      A futuristic action game that challenges your ...   \n",
       "...                                                  ...   \n",
       "25227  <img src=\"https://cdn.akamai.steamstatic.com/s...   \n",
       "25228  The universe is in danger with the threat of e...   \n",
       "25229  <strong>Club Girl</strong> - You only need 4 k...   \n",
       "25230  <strong>bloks </strong>is a small god-game wit...   \n",
       "25231  n-body is a short, relaxing golf game in space...   \n",
       "\n",
       "                                          about_the_game  \\\n",
       "0      One of the most popular online action games of...   \n",
       "1      Enlist in an intense brand of Axis vs. Allied ...   \n",
       "2      Enjoy fast-paced multiplayer gaming with Death...   \n",
       "3      Return to the Black Mesa Research Facility as ...   \n",
       "4      A futuristic action game that challenges your ...   \n",
       "...                                                  ...   \n",
       "25227  <img src=\"https://cdn.akamai.steamstatic.com/s...   \n",
       "25228  The universe is in danger with the threat of e...   \n",
       "25229  <strong>Club Girl</strong> - You only need 4 k...   \n",
       "25230  <strong>bloks </strong>is a small god-game wit...   \n",
       "25231  n-body is a short, relaxing golf game in space...   \n",
       "\n",
       "                                       short_description  \\\n",
       "0      One of the most popular online action games of...   \n",
       "1      Enlist in an intense brand of Axis vs. Allied ...   \n",
       "2      Enjoy fast-paced multiplayer gaming with Death...   \n",
       "3      Return to the Black Mesa Research Facility as ...   \n",
       "4      A futuristic action game that challenges your ...   \n",
       "...                                                  ...   \n",
       "25227  Control a spaceship and fight against treacher...   \n",
       "25228  Mage Hunters uses capture and elimination mech...   \n",
       "25229  A classic game, you need to press the arrow ke...   \n",
       "25230  bloks is a small god-game with a tetris-like m...   \n",
       "25231  n-body is a chill space golf videogame! Launch...   \n",
       "\n",
       "                                         pc_requirements  \\\n",
       "0      {'minimum': '\\r\\n\\t\\t\\t<p><strong>Minimum:</st...   \n",
       "1      {'minimum': '\\r\\n\\t\\t\\t<p><strong>Minimum:</st...   \n",
       "2      {'minimum': '\\r\\n\\t\\t\\t<p><strong>Minimum:</st...   \n",
       "3      {'minimum': '\\r\\n\\t\\t\\t<p><strong>Minimum:</st...   \n",
       "4      {'minimum': '\\r\\n\\t\\t\\t<p><strong>Minimum:</st...   \n",
       "...                                                  ...   \n",
       "25227  {'minimum': '<strong>Minimum:</strong><br><ul ...   \n",
       "25228  {'minimum': '<strong>Minimum:</strong><br><ul ...   \n",
       "25229  {'minimum': '<strong>Minimum:</strong><br><ul ...   \n",
       "25230  {'minimum': '<strong>Minimum:</strong><br><ul ...   \n",
       "25231  {'minimum': '<strong>Minimum:</strong><br><ul ...   \n",
       "\n",
       "                                        mac_requirements  \\\n",
       "0      {'minimum': 'Minimum: OS X  Snow Leopard 10.6....   \n",
       "1      {'minimum': 'Minimum: OS X  Snow Leopard 10.6....   \n",
       "2      {'minimum': 'Minimum: OS X  Snow Leopard 10.6....   \n",
       "3      {'minimum': 'Minimum: OS X  Snow Leopard 10.6....   \n",
       "4      {'minimum': 'Minimum: OS X  Snow Leopard 10.6....   \n",
       "...                                                  ...   \n",
       "25227                                               none   \n",
       "25228  {'minimum': '<strong>Minimum:</strong><br><ul ...   \n",
       "25229                                               none   \n",
       "25230  {'minimum': '<strong>Minimum:</strong><br><ul ...   \n",
       "25231  {'minimum': '<strong>Minimum:</strong><br><ul ...   \n",
       "\n",
       "                                      linux_requirements  ... median_forever  \\\n",
       "0      {'minimum': 'Minimum: Linux Ubuntu 12.04, Dual...  ...             19   \n",
       "1      {'minimum': 'Minimum: Linux Ubuntu 12.04, Dual...  ...             47   \n",
       "2      {'minimum': 'Minimum: Linux Ubuntu 12.04, Dual...  ...              4   \n",
       "3      {'minimum': 'Minimum: Linux Ubuntu 12.04, Dual...  ...            123   \n",
       "4      {'minimum': 'Minimum: Linux Ubuntu 12.04, Dual...  ...              3   \n",
       "...                                                  ...  ...            ...   \n",
       "25227                                               none  ...              0   \n",
       "25228  {'minimum': '<strong>Minimum:</strong><br><ul ...  ...              0   \n",
       "25229                                               none  ...              0   \n",
       "25230                                               none  ...              0   \n",
       "25231  {'minimum': '<strong>Minimum:</strong><br><ul ...  ...              0   \n",
       "\n",
       "      median_2weeks  price initialprice discount  \\\n",
       "0                 0  499.0        499.0      0.0   \n",
       "1                 0  499.0        499.0      0.0   \n",
       "2                 0  499.0        499.0      0.0   \n",
       "3                 0  499.0        499.0      0.0   \n",
       "4                 0  499.0        499.0      0.0   \n",
       "...             ...    ...          ...      ...   \n",
       "25227             0  899.0        899.0      0.0   \n",
       "25228             0   99.0         99.0      0.0   \n",
       "25229             0   99.0         99.0      0.0   \n",
       "25230             0  299.0        299.0      0.0   \n",
       "25231             0  299.0        299.0      0.0   \n",
       "\n",
       "                                               languages  \\\n",
       "0      English, French, German, Italian, Spanish - Sp...   \n",
       "1      English, French, German, Italian, Spanish - Spain   \n",
       "2      English, French, German, Italian, Spanish - Sp...   \n",
       "3                        English, French, German, Korean   \n",
       "4      English, French, German, Italian, Spanish - Sp...   \n",
       "...                                                  ...   \n",
       "25227  English, French, Italian, German, Spanish - Sp...   \n",
       "25228                                            English   \n",
       "25229                                            English   \n",
       "25230                                            English   \n",
       "25231                                            English   \n",
       "\n",
       "                                       genre  ccu  \\\n",
       "0                               Action Games   98   \n",
       "1                               Action Games  145   \n",
       "2                               Action Games    6   \n",
       "3                               Action Games  156   \n",
       "4                                     Action    8   \n",
       "...                                      ...  ...   \n",
       "25227  Action Games, Adventure, Early Access    0   \n",
       "25228                               Strategy    0   \n",
       "25229              Casual, Indie, Simulation    0   \n",
       "25230              Casual, Indie, Simulation    0   \n",
       "25231                          Casual, Indie    0   \n",
       "\n",
       "                                                    tags  english  \n",
       "0      {'Action': 738, 'FPS': 300, 'Multiplayer': 253...        1  \n",
       "1      {'FPS': 778, 'World War II': 244, 'Multiplayer...        1  \n",
       "2      {'Action': 626, 'FPS': 136, 'Classic': 104, 'M...        1  \n",
       "3      {'FPS': 871, 'Action': 312, 'Classic': 240, 'S...        1  \n",
       "4      {'Action': 581, 'FPS': 121, 'Multiplayer': 97,...        1  \n",
       "...                                                  ...      ...  \n",
       "25227  {'Early Access': 375, 'Action': 340, 'Puzzle':...        1  \n",
       "25228  {'Strategy': 222, 'Board Game': 213, 'Tabletop...        1  \n",
       "25229  {'Casual': 70, 'Simulation': 62, 'Rhythm': 62,...        1  \n",
       "25230  {'Simulation': 61, 'Experimental': 51, 'Puzzle...        1  \n",
       "25231  {'Casual': 64, 'Experimental': 38, 'Collectath...        1  \n",
       "\n",
       "[25232 rows x 33 columns]"
      ]
     },
     "execution_count": 344,
     "metadata": {},
     "output_type": "execute_result"
    }
   ],
   "source": [
    "df.replace('[]', 'none')"
   ]
  },
  {
   "cell_type": "code",
   "execution_count": 345,
   "metadata": {},
   "outputs": [],
   "source": [
    "# Dropping  more columns that will not be needed\n",
    "df.drop(columns=['detailed_description', 'about_the_game', 'languages'], inplace=True)"
   ]
  },
  {
   "cell_type": "markdown",
   "metadata": {},
   "source": [
    "##  Free or paid"
   ]
  },
  {
   "cell_type": "code",
   "execution_count": 347,
   "metadata": {},
   "outputs": [
    {
     "data": {
      "text/plain": [
       "False    21304\n",
       "True      3928\n",
       "Name: free, dtype: int64"
      ]
     },
     "execution_count": 347,
     "metadata": {},
     "output_type": "execute_result"
    }
   ],
   "source": [
    "# leaving the Free feature as is for now\n",
    "df['free'].value_counts()"
   ]
  },
  {
   "cell_type": "markdown",
   "metadata": {},
   "source": [
    "## Release Date"
   ]
  },
  {
   "cell_type": "markdown",
   "metadata": {},
   "source": [
    "The release date column looks like a dictionary but after trying different ways to change the column into datetime, it turned out that the column values are in strings. The loop iterrates through each row to change the values into date number that will be easier to perform EDA on and for the model to potenially read. While going through the rows, the loop will fill any missing value with \"Missing\". "
   ]
  },
  {
   "cell_type": "code",
   "execution_count": 349,
   "metadata": {},
   "outputs": [
    {
     "data": {
      "text/plain": [
       "0    {'coming_soon': False, 'date': 'Apr 1, 1999'}\n",
       "1    {'coming_soon': False, 'date': 'May 1, 2003'}\n",
       "2    {'coming_soon': False, 'date': 'Jun 1, 2001'}\n",
       "3    {'coming_soon': False, 'date': 'Nov 1, 1999'}\n",
       "4    {'coming_soon': False, 'date': 'Nov 1, 2000'}\n",
       "Name: release_date, dtype: object"
      ]
     },
     "execution_count": 349,
     "metadata": {},
     "output_type": "execute_result"
    }
   ],
   "source": [
    "df['release_date'].head()"
   ]
  },
  {
   "cell_type": "code",
   "execution_count": 311,
   "metadata": {},
   "outputs": [],
   "source": [
    "#df = df[~df['name'].isin(['Left 4 Dead 2'])]"
   ]
  },
  {
   "cell_type": "code",
   "execution_count": 312,
   "metadata": {},
   "outputs": [],
   "source": [
    "#df = df[~df['appid'].isin(['13620'])]"
   ]
  },
  {
   "cell_type": "code",
   "execution_count": 449,
   "metadata": {},
   "outputs": [],
   "source": [
    "# Change the date data type looop \n",
    "df2=df\n",
    "count=0\n",
    "for index,row in df2.iterrows():\n",
    "    #print(index)\n",
    "    try:\n",
    "        tmpvar=row['release_date'].split(':')[2]\n",
    "    except IndexError:\n",
    "        continue\n",
    "    tmp_baddate=tmpvar.split(\"'\")[1]\n",
    "    if not tmp_baddate:\n",
    "        correct_date_string=\"MISSING\"\n",
    "    else:\n",
    "        try:\n",
    "            temp_date=datetime.datetime.strptime(tmp_baddate,'%b %d, %Y')\n",
    "            correct_date_string=temp_date.strftime(\"%Y%m%d\")\n",
    "        except:\n",
    "            temp_date=None\n",
    "        \n",
    "        if not temp_date:\n",
    "            try:\n",
    "                temp_date=datetime.datetime.strptime(tmp_baddate,'%d %b, %Y')\n",
    "                correct_date_string=temp_date.strftime(\"%Y%m%d\")\n",
    "            except:\n",
    "                correct_date_string=\"MISSING\"\n",
    "    df2.at[index,'release_date']=correct_date_string\n",
    "    count=count+1"
   ]
  },
  {
   "cell_type": "code",
   "execution_count": 471,
   "metadata": {},
   "outputs": [
    {
     "data": {
      "text/plain": [
       "0    19990401\n",
       "1    20030501\n",
       "2    20010601\n",
       "3    19991101\n",
       "4    20001101\n",
       "Name: release_date, dtype: object"
      ]
     },
     "execution_count": 471,
     "metadata": {},
     "output_type": "execute_result"
    }
   ],
   "source": [
    "# checking out the column to make sure it's correct \n",
    "df['release_date'].head()"
   ]
  },
  {
   "cell_type": "code",
   "execution_count": 473,
   "metadata": {},
   "outputs": [],
   "source": [
    "# dropping package_groups\n",
    "df.drop(columns=['package_groups'],inplace=True)"
   ]
  },
  {
   "cell_type": "code",
   "execution_count": 474,
   "metadata": {},
   "outputs": [
    {
     "data": {
      "text/html": [
       "<div>\n",
       "<style scoped>\n",
       "    .dataframe tbody tr th:only-of-type {\n",
       "        vertical-align: middle;\n",
       "    }\n",
       "\n",
       "    .dataframe tbody tr th {\n",
       "        vertical-align: top;\n",
       "    }\n",
       "\n",
       "    .dataframe thead th {\n",
       "        text-align: right;\n",
       "    }\n",
       "</style>\n",
       "<table border=\"1\" class=\"dataframe\">\n",
       "  <thead>\n",
       "    <tr style=\"text-align: right;\">\n",
       "      <th></th>\n",
       "      <th>name</th>\n",
       "      <th>appid</th>\n",
       "      <th>required_age</th>\n",
       "      <th>free</th>\n",
       "      <th>short_description</th>\n",
       "      <th>pc_requirements</th>\n",
       "      <th>mac_requirements</th>\n",
       "      <th>linux_requirements</th>\n",
       "      <th>developers</th>\n",
       "      <th>publishers</th>\n",
       "      <th>...</th>\n",
       "      <th>average_forever</th>\n",
       "      <th>average_2weeks</th>\n",
       "      <th>median_forever</th>\n",
       "      <th>median_2weeks</th>\n",
       "      <th>price</th>\n",
       "      <th>discount</th>\n",
       "      <th>genre</th>\n",
       "      <th>ccu</th>\n",
       "      <th>tags</th>\n",
       "      <th>english</th>\n",
       "    </tr>\n",
       "  </thead>\n",
       "  <tbody>\n",
       "    <tr>\n",
       "      <th>0</th>\n",
       "      <td>Team Fortress Classic</td>\n",
       "      <td>20</td>\n",
       "      <td>0.0</td>\n",
       "      <td>False</td>\n",
       "      <td>One of the most popular online action games of...</td>\n",
       "      <td>{'minimum': '\\r\\n\\t\\t\\t&lt;p&gt;&lt;strong&gt;Minimum:&lt;/st...</td>\n",
       "      <td>{'minimum': 'Minimum: OS X  Snow Leopard 10.6....</td>\n",
       "      <td>{'minimum': 'Minimum: Linux Ubuntu 12.04, Dual...</td>\n",
       "      <td>['Valve']</td>\n",
       "      <td>['Valve']</td>\n",
       "      <td>...</td>\n",
       "      <td>92</td>\n",
       "      <td>0</td>\n",
       "      <td>19</td>\n",
       "      <td>0</td>\n",
       "      <td>499.0</td>\n",
       "      <td>0.0</td>\n",
       "      <td>Action Games</td>\n",
       "      <td>98</td>\n",
       "      <td>{'Action': 738, 'FPS': 300, 'Multiplayer': 253...</td>\n",
       "      <td>1</td>\n",
       "    </tr>\n",
       "    <tr>\n",
       "      <th>1</th>\n",
       "      <td>Day of Defeat</td>\n",
       "      <td>30</td>\n",
       "      <td>0.0</td>\n",
       "      <td>False</td>\n",
       "      <td>Enlist in an intense brand of Axis vs. Allied ...</td>\n",
       "      <td>{'minimum': '\\r\\n\\t\\t\\t&lt;p&gt;&lt;strong&gt;Minimum:&lt;/st...</td>\n",
       "      <td>{'minimum': 'Minimum: OS X  Snow Leopard 10.6....</td>\n",
       "      <td>{'minimum': 'Minimum: Linux Ubuntu 12.04, Dual...</td>\n",
       "      <td>['Valve']</td>\n",
       "      <td>['Valve']</td>\n",
       "      <td>...</td>\n",
       "      <td>299</td>\n",
       "      <td>0</td>\n",
       "      <td>47</td>\n",
       "      <td>0</td>\n",
       "      <td>499.0</td>\n",
       "      <td>0.0</td>\n",
       "      <td>Action Games</td>\n",
       "      <td>145</td>\n",
       "      <td>{'FPS': 778, 'World War II': 244, 'Multiplayer...</td>\n",
       "      <td>1</td>\n",
       "    </tr>\n",
       "    <tr>\n",
       "      <th>2</th>\n",
       "      <td>Deathmatch Classic</td>\n",
       "      <td>40</td>\n",
       "      <td>0.0</td>\n",
       "      <td>False</td>\n",
       "      <td>Enjoy fast-paced multiplayer gaming with Death...</td>\n",
       "      <td>{'minimum': '\\r\\n\\t\\t\\t&lt;p&gt;&lt;strong&gt;Minimum:&lt;/st...</td>\n",
       "      <td>{'minimum': 'Minimum: OS X  Snow Leopard 10.6....</td>\n",
       "      <td>{'minimum': 'Minimum: Linux Ubuntu 12.04, Dual...</td>\n",
       "      <td>['Valve']</td>\n",
       "      <td>['Valve']</td>\n",
       "      <td>...</td>\n",
       "      <td>23</td>\n",
       "      <td>0</td>\n",
       "      <td>4</td>\n",
       "      <td>0</td>\n",
       "      <td>499.0</td>\n",
       "      <td>0.0</td>\n",
       "      <td>Action Games</td>\n",
       "      <td>6</td>\n",
       "      <td>{'Action': 626, 'FPS': 136, 'Classic': 104, 'M...</td>\n",
       "      <td>1</td>\n",
       "    </tr>\n",
       "    <tr>\n",
       "      <th>3</th>\n",
       "      <td>Half-Life: Opposing Force</td>\n",
       "      <td>50</td>\n",
       "      <td>0.0</td>\n",
       "      <td>False</td>\n",
       "      <td>Return to the Black Mesa Research Facility as ...</td>\n",
       "      <td>{'minimum': '\\r\\n\\t\\t\\t&lt;p&gt;&lt;strong&gt;Minimum:&lt;/st...</td>\n",
       "      <td>{'minimum': 'Minimum: OS X  Snow Leopard 10.6....</td>\n",
       "      <td>{'minimum': 'Minimum: Linux Ubuntu 12.04, Dual...</td>\n",
       "      <td>['Gearbox Software']</td>\n",
       "      <td>['Valve']</td>\n",
       "      <td>...</td>\n",
       "      <td>218</td>\n",
       "      <td>0</td>\n",
       "      <td>123</td>\n",
       "      <td>0</td>\n",
       "      <td>499.0</td>\n",
       "      <td>0.0</td>\n",
       "      <td>Action Games</td>\n",
       "      <td>156</td>\n",
       "      <td>{'FPS': 871, 'Action': 312, 'Classic': 240, 'S...</td>\n",
       "      <td>1</td>\n",
       "    </tr>\n",
       "    <tr>\n",
       "      <th>4</th>\n",
       "      <td>Ricochet</td>\n",
       "      <td>60</td>\n",
       "      <td>0.0</td>\n",
       "      <td>False</td>\n",
       "      <td>A futuristic action game that challenges your ...</td>\n",
       "      <td>{'minimum': '\\r\\n\\t\\t\\t&lt;p&gt;&lt;strong&gt;Minimum:&lt;/st...</td>\n",
       "      <td>{'minimum': 'Minimum: OS X  Snow Leopard 10.6....</td>\n",
       "      <td>{'minimum': 'Minimum: Linux Ubuntu 12.04, Dual...</td>\n",
       "      <td>['Valve']</td>\n",
       "      <td>['Valve']</td>\n",
       "      <td>...</td>\n",
       "      <td>23</td>\n",
       "      <td>0</td>\n",
       "      <td>3</td>\n",
       "      <td>0</td>\n",
       "      <td>499.0</td>\n",
       "      <td>0.0</td>\n",
       "      <td>Action</td>\n",
       "      <td>8</td>\n",
       "      <td>{'Action': 581, 'FPS': 121, 'Multiplayer': 97,...</td>\n",
       "      <td>1</td>\n",
       "    </tr>\n",
       "  </tbody>\n",
       "</table>\n",
       "<p>5 rows × 27 columns</p>\n",
       "</div>"
      ],
      "text/plain": [
       "                        name  appid  required_age   free  \\\n",
       "0      Team Fortress Classic     20           0.0  False   \n",
       "1              Day of Defeat     30           0.0  False   \n",
       "2         Deathmatch Classic     40           0.0  False   \n",
       "3  Half-Life: Opposing Force     50           0.0  False   \n",
       "4                   Ricochet     60           0.0  False   \n",
       "\n",
       "                                   short_description  \\\n",
       "0  One of the most popular online action games of...   \n",
       "1  Enlist in an intense brand of Axis vs. Allied ...   \n",
       "2  Enjoy fast-paced multiplayer gaming with Death...   \n",
       "3  Return to the Black Mesa Research Facility as ...   \n",
       "4  A futuristic action game that challenges your ...   \n",
       "\n",
       "                                     pc_requirements  \\\n",
       "0  {'minimum': '\\r\\n\\t\\t\\t<p><strong>Minimum:</st...   \n",
       "1  {'minimum': '\\r\\n\\t\\t\\t<p><strong>Minimum:</st...   \n",
       "2  {'minimum': '\\r\\n\\t\\t\\t<p><strong>Minimum:</st...   \n",
       "3  {'minimum': '\\r\\n\\t\\t\\t<p><strong>Minimum:</st...   \n",
       "4  {'minimum': '\\r\\n\\t\\t\\t<p><strong>Minimum:</st...   \n",
       "\n",
       "                                    mac_requirements  \\\n",
       "0  {'minimum': 'Minimum: OS X  Snow Leopard 10.6....   \n",
       "1  {'minimum': 'Minimum: OS X  Snow Leopard 10.6....   \n",
       "2  {'minimum': 'Minimum: OS X  Snow Leopard 10.6....   \n",
       "3  {'minimum': 'Minimum: OS X  Snow Leopard 10.6....   \n",
       "4  {'minimum': 'Minimum: OS X  Snow Leopard 10.6....   \n",
       "\n",
       "                                  linux_requirements            developers  \\\n",
       "0  {'minimum': 'Minimum: Linux Ubuntu 12.04, Dual...             ['Valve']   \n",
       "1  {'minimum': 'Minimum: Linux Ubuntu 12.04, Dual...             ['Valve']   \n",
       "2  {'minimum': 'Minimum: Linux Ubuntu 12.04, Dual...             ['Valve']   \n",
       "3  {'minimum': 'Minimum: Linux Ubuntu 12.04, Dual...  ['Gearbox Software']   \n",
       "4  {'minimum': 'Minimum: Linux Ubuntu 12.04, Dual...             ['Valve']   \n",
       "\n",
       "  publishers  ... average_forever average_2weeks median_forever median_2weeks  \\\n",
       "0  ['Valve']  ...              92              0             19             0   \n",
       "1  ['Valve']  ...             299              0             47             0   \n",
       "2  ['Valve']  ...              23              0              4             0   \n",
       "3  ['Valve']  ...             218              0            123             0   \n",
       "4  ['Valve']  ...              23              0              3             0   \n",
       "\n",
       "   price  discount         genre  ccu  \\\n",
       "0  499.0       0.0  Action Games   98   \n",
       "1  499.0       0.0  Action Games  145   \n",
       "2  499.0       0.0  Action Games    6   \n",
       "3  499.0       0.0  Action Games  156   \n",
       "4  499.0       0.0        Action    8   \n",
       "\n",
       "                                                tags  english  \n",
       "0  {'Action': 738, 'FPS': 300, 'Multiplayer': 253...        1  \n",
       "1  {'FPS': 778, 'World War II': 244, 'Multiplayer...        1  \n",
       "2  {'Action': 626, 'FPS': 136, 'Classic': 104, 'M...        1  \n",
       "3  {'FPS': 871, 'Action': 312, 'Classic': 240, 'S...        1  \n",
       "4  {'Action': 581, 'FPS': 121, 'Multiplayer': 97,...        1  \n",
       "\n",
       "[5 rows x 27 columns]"
      ]
     },
     "execution_count": 474,
     "metadata": {},
     "output_type": "execute_result"
    }
   ],
   "source": [
    "df.head()"
   ]
  },
  {
   "cell_type": "markdown",
   "metadata": {},
   "source": [
    "## Owners "
   ]
  },
  {
   "cell_type": "markdown",
   "metadata": {},
   "source": [
    "To handle the owners feature, I first tried it out as a string that represents the range of owners just eaiser to read. But because it might be easier to handle this columns as a numerical feature, instead I leave only the first index value and drop the rest and turn it into an interger type. "
   ]
  },
  {
   "cell_type": "code",
   "execution_count": 487,
   "metadata": {},
   "outputs": [],
   "source": [
    "df['owners'] = df['owners'].str.replace(',', '').str.replace(' .. ', '-')"
   ]
  },
  {
   "cell_type": "code",
   "execution_count": 492,
   "metadata": {},
   "outputs": [
    {
     "data": {
      "text/plain": [
       "0         2000000-5000000\n",
       "1        5000000-10000000\n",
       "2           100000-200000\n",
       "3        5000000-10000000\n",
       "4        5000000-10000000\n",
       "5        5000000-10000000\n",
       "6        5000000-10000000\n",
       "7         1000000-2000000\n",
       "8       10000000-20000000\n",
       "9       10000000-20000000\n",
       "10        2000000-5000000\n",
       "11       5000000-10000000\n",
       "12      10000000-20000000\n",
       "13      10000000-20000000\n",
       "14       5000000-10000000\n",
       "15       5000000-10000000\n",
       "16       5000000-10000000\n",
       "17       5000000-10000000\n",
       "18     50000000-100000000\n",
       "19       5000000-10000000\n",
       "20      20000000-50000000\n",
       "21    100000000-200000000\n",
       "22      10000000-20000000\n",
       "23        1000000-2000000\n",
       "24    100000000-200000000\n",
       "25                0-20000\n",
       "26         500000-1000000\n",
       "27        2000000-5000000\n",
       "28          100000-200000\n",
       "29           50000-100000\n",
       "30          200000-500000\n",
       "31         500000-1000000\n",
       "32         500000-1000000\n",
       "33         500000-1000000\n",
       "34           50000-100000\n",
       "35           50000-100000\n",
       "36           50000-100000\n",
       "37          100000-200000\n",
       "38            20000-50000\n",
       "39           50000-100000\n",
       "Name: owners, dtype: object"
      ]
     },
     "execution_count": 492,
     "metadata": {},
     "output_type": "execute_result"
    }
   ],
   "source": [
    "df['owners'].head(40)"
   ]
  },
  {
   "cell_type": "code",
   "execution_count": 828,
   "metadata": {},
   "outputs": [
    {
     "data": {
      "text/plain": [
       "0         2000000-5000000\n",
       "1        5000000-10000000\n",
       "2           100000-200000\n",
       "3        5000000-10000000\n",
       "4        5000000-10000000\n",
       "               ...       \n",
       "25227             0-20000\n",
       "25228             0-20000\n",
       "25229             0-20000\n",
       "25230             0-20000\n",
       "25231             0-20000\n",
       "Name: owners, Length: 25232, dtype: category\n",
       "Categories (13, object): ['0-20000', '100000-200000', '1000000-2000000', '10000000-20000000', ..., '50000-100000', '500000-1000000', '5000000-10000000', '50000000-100000000']"
      ]
     },
     "execution_count": 828,
     "metadata": {},
     "output_type": "execute_result"
    }
   ],
   "source": [
    "df['owners'].astype('category')"
   ]
  },
  {
   "cell_type": "code",
   "execution_count": 830,
   "metadata": {},
   "outputs": [],
   "source": [
    "df['owners'] = df['owners'].str.split('-').apply(lambda x: x[0]).astype(int)"
   ]
  },
  {
   "cell_type": "code",
   "execution_count": 942,
   "metadata": {},
   "outputs": [
    {
     "data": {
      "image/png": "[encoded data removed]",
      "text/plain": [
       "<Figure size 900x600 with 1 Axes>"
      ]
     },
     "metadata": {},
     "output_type": "display_data"
    }
   ],
   "source": [
    "# Looking at the number owners\n",
    "_, ax = plt.subplots(figsize=(9, 6))\n",
    "sns.countplot(data = df2, x = 'owners');\n",
    "plt.xlabel(\"Owners\", size=15)\n",
    "ax.set_xticklabels(ax.get_xticklabels(), rotation=45)\n",
    "plt.ylabel(\"Frequency\", size=15)\n",
    "plt.title('Owners Count', size=20);"
   ]
  },
  {
   "cell_type": "markdown",
   "metadata": {},
   "source": [
    "## Release Year"
   ]
  },
  {
   "cell_type": "markdown",
   "metadata": {},
   "source": [
    "Creating a column pulling only the year from released date column. "
   ]
  },
  {
   "cell_type": "code",
   "execution_count": 831,
   "metadata": {},
   "outputs": [],
   "source": [
    "df = df[~df['release_date'].isin(['MISSING'])]"
   ]
  },
  {
   "cell_type": "code",
   "execution_count": 832,
   "metadata": {},
   "outputs": [],
   "source": [
    " # convert release_date to datetime type and create separate column for release_year\n",
    "df['release_date'] = df['release_date'].astype('datetime64[ns]')\n",
    "df['release_year'] = df['release_date'].apply(lambda x: x.year)"
   ]
  },
  {
   "cell_type": "code",
   "execution_count": 833,
   "metadata": {},
   "outputs": [
    {
     "data": {
      "text/html": [
       "<div>\n",
       "<style scoped>\n",
       "    .dataframe tbody tr th:only-of-type {\n",
       "        vertical-align: middle;\n",
       "    }\n",
       "\n",
       "    .dataframe tbody tr th {\n",
       "        vertical-align: top;\n",
       "    }\n",
       "\n",
       "    .dataframe thead th {\n",
       "        text-align: right;\n",
       "    }\n",
       "</style>\n",
       "<table border=\"1\" class=\"dataframe\">\n",
       "  <thead>\n",
       "    <tr style=\"text-align: right;\">\n",
       "      <th></th>\n",
       "      <th>name</th>\n",
       "      <th>appid</th>\n",
       "      <th>required_age</th>\n",
       "      <th>free</th>\n",
       "      <th>short_description</th>\n",
       "      <th>pc_requirements</th>\n",
       "      <th>mac_requirements</th>\n",
       "      <th>linux_requirements</th>\n",
       "      <th>developers</th>\n",
       "      <th>publishers</th>\n",
       "      <th>...</th>\n",
       "      <th>average_2weeks</th>\n",
       "      <th>median_forever</th>\n",
       "      <th>median_2weeks</th>\n",
       "      <th>price</th>\n",
       "      <th>discount</th>\n",
       "      <th>genre</th>\n",
       "      <th>ccu</th>\n",
       "      <th>tags</th>\n",
       "      <th>english</th>\n",
       "      <th>release_year</th>\n",
       "    </tr>\n",
       "  </thead>\n",
       "  <tbody>\n",
       "    <tr>\n",
       "      <th>0</th>\n",
       "      <td>Team Fortress Classic</td>\n",
       "      <td>20</td>\n",
       "      <td>0.0</td>\n",
       "      <td>False</td>\n",
       "      <td>One of the most popular online action games of...</td>\n",
       "      <td>{'minimum': '\\r\\n\\t\\t\\t&lt;p&gt;&lt;strong&gt;Minimum:&lt;/st...</td>\n",
       "      <td>{'minimum': 'Minimum: OS X  Snow Leopard 10.6....</td>\n",
       "      <td>{'minimum': 'Minimum: Linux Ubuntu 12.04, Dual...</td>\n",
       "      <td>['Valve']</td>\n",
       "      <td>['Valve']</td>\n",
       "      <td>...</td>\n",
       "      <td>0</td>\n",
       "      <td>19</td>\n",
       "      <td>0</td>\n",
       "      <td>499.0</td>\n",
       "      <td>0.0</td>\n",
       "      <td>Action Games</td>\n",
       "      <td>98</td>\n",
       "      <td>{'Action': 738, 'FPS': 300, 'Multiplayer': 253...</td>\n",
       "      <td>1</td>\n",
       "      <td>1999</td>\n",
       "    </tr>\n",
       "    <tr>\n",
       "      <th>1</th>\n",
       "      <td>Day of Defeat</td>\n",
       "      <td>30</td>\n",
       "      <td>0.0</td>\n",
       "      <td>False</td>\n",
       "      <td>Enlist in an intense brand of Axis vs. Allied ...</td>\n",
       "      <td>{'minimum': '\\r\\n\\t\\t\\t&lt;p&gt;&lt;strong&gt;Minimum:&lt;/st...</td>\n",
       "      <td>{'minimum': 'Minimum: OS X  Snow Leopard 10.6....</td>\n",
       "      <td>{'minimum': 'Minimum: Linux Ubuntu 12.04, Dual...</td>\n",
       "      <td>['Valve']</td>\n",
       "      <td>['Valve']</td>\n",
       "      <td>...</td>\n",
       "      <td>0</td>\n",
       "      <td>47</td>\n",
       "      <td>0</td>\n",
       "      <td>499.0</td>\n",
       "      <td>0.0</td>\n",
       "      <td>Action Games</td>\n",
       "      <td>145</td>\n",
       "      <td>{'FPS': 778, 'World War II': 244, 'Multiplayer...</td>\n",
       "      <td>1</td>\n",
       "      <td>2003</td>\n",
       "    </tr>\n",
       "    <tr>\n",
       "      <th>2</th>\n",
       "      <td>Deathmatch Classic</td>\n",
       "      <td>40</td>\n",
       "      <td>0.0</td>\n",
       "      <td>False</td>\n",
       "      <td>Enjoy fast-paced multiplayer gaming with Death...</td>\n",
       "      <td>{'minimum': '\\r\\n\\t\\t\\t&lt;p&gt;&lt;strong&gt;Minimum:&lt;/st...</td>\n",
       "      <td>{'minimum': 'Minimum: OS X  Snow Leopard 10.6....</td>\n",
       "      <td>{'minimum': 'Minimum: Linux Ubuntu 12.04, Dual...</td>\n",
       "      <td>['Valve']</td>\n",
       "      <td>['Valve']</td>\n",
       "      <td>...</td>\n",
       "      <td>0</td>\n",
       "      <td>4</td>\n",
       "      <td>0</td>\n",
       "      <td>499.0</td>\n",
       "      <td>0.0</td>\n",
       "      <td>Action Games</td>\n",
       "      <td>6</td>\n",
       "      <td>{'Action': 626, 'FPS': 136, 'Classic': 104, 'M...</td>\n",
       "      <td>1</td>\n",
       "      <td>2001</td>\n",
       "    </tr>\n",
       "    <tr>\n",
       "      <th>3</th>\n",
       "      <td>Half-Life: Opposing Force</td>\n",
       "      <td>50</td>\n",
       "      <td>0.0</td>\n",
       "      <td>False</td>\n",
       "      <td>Return to the Black Mesa Research Facility as ...</td>\n",
       "      <td>{'minimum': '\\r\\n\\t\\t\\t&lt;p&gt;&lt;strong&gt;Minimum:&lt;/st...</td>\n",
       "      <td>{'minimum': 'Minimum: OS X  Snow Leopard 10.6....</td>\n",
       "      <td>{'minimum': 'Minimum: Linux Ubuntu 12.04, Dual...</td>\n",
       "      <td>['Gearbox Software']</td>\n",
       "      <td>['Valve']</td>\n",
       "      <td>...</td>\n",
       "      <td>0</td>\n",
       "      <td>123</td>\n",
       "      <td>0</td>\n",
       "      <td>499.0</td>\n",
       "      <td>0.0</td>\n",
       "      <td>Action Games</td>\n",
       "      <td>156</td>\n",
       "      <td>{'FPS': 871, 'Action': 312, 'Classic': 240, 'S...</td>\n",
       "      <td>1</td>\n",
       "      <td>1999</td>\n",
       "    </tr>\n",
       "    <tr>\n",
       "      <th>4</th>\n",
       "      <td>Ricochet</td>\n",
       "      <td>60</td>\n",
       "      <td>0.0</td>\n",
       "      <td>False</td>\n",
       "      <td>A futuristic action game that challenges your ...</td>\n",
       "      <td>{'minimum': '\\r\\n\\t\\t\\t&lt;p&gt;&lt;strong&gt;Minimum:&lt;/st...</td>\n",
       "      <td>{'minimum': 'Minimum: OS X  Snow Leopard 10.6....</td>\n",
       "      <td>{'minimum': 'Minimum: Linux Ubuntu 12.04, Dual...</td>\n",
       "      <td>['Valve']</td>\n",
       "      <td>['Valve']</td>\n",
       "      <td>...</td>\n",
       "      <td>0</td>\n",
       "      <td>3</td>\n",
       "      <td>0</td>\n",
       "      <td>499.0</td>\n",
       "      <td>0.0</td>\n",
       "      <td>Action</td>\n",
       "      <td>8</td>\n",
       "      <td>{'Action': 581, 'FPS': 121, 'Multiplayer': 97,...</td>\n",
       "      <td>1</td>\n",
       "      <td>2000</td>\n",
       "    </tr>\n",
       "  </tbody>\n",
       "</table>\n",
       "<p>5 rows × 28 columns</p>\n",
       "</div>"
      ],
      "text/plain": [
       "                        name  appid  required_age   free  \\\n",
       "0      Team Fortress Classic     20           0.0  False   \n",
       "1              Day of Defeat     30           0.0  False   \n",
       "2         Deathmatch Classic     40           0.0  False   \n",
       "3  Half-Life: Opposing Force     50           0.0  False   \n",
       "4                   Ricochet     60           0.0  False   \n",
       "\n",
       "                                   short_description  \\\n",
       "0  One of the most popular online action games of...   \n",
       "1  Enlist in an intense brand of Axis vs. Allied ...   \n",
       "2  Enjoy fast-paced multiplayer gaming with Death...   \n",
       "3  Return to the Black Mesa Research Facility as ...   \n",
       "4  A futuristic action game that challenges your ...   \n",
       "\n",
       "                                     pc_requirements  \\\n",
       "0  {'minimum': '\\r\\n\\t\\t\\t<p><strong>Minimum:</st...   \n",
       "1  {'minimum': '\\r\\n\\t\\t\\t<p><strong>Minimum:</st...   \n",
       "2  {'minimum': '\\r\\n\\t\\t\\t<p><strong>Minimum:</st...   \n",
       "3  {'minimum': '\\r\\n\\t\\t\\t<p><strong>Minimum:</st...   \n",
       "4  {'minimum': '\\r\\n\\t\\t\\t<p><strong>Minimum:</st...   \n",
       "\n",
       "                                    mac_requirements  \\\n",
       "0  {'minimum': 'Minimum: OS X  Snow Leopard 10.6....   \n",
       "1  {'minimum': 'Minimum: OS X  Snow Leopard 10.6....   \n",
       "2  {'minimum': 'Minimum: OS X  Snow Leopard 10.6....   \n",
       "3  {'minimum': 'Minimum: OS X  Snow Leopard 10.6....   \n",
       "4  {'minimum': 'Minimum: OS X  Snow Leopard 10.6....   \n",
       "\n",
       "                                  linux_requirements            developers  \\\n",
       "0  {'minimum': 'Minimum: Linux Ubuntu 12.04, Dual...             ['Valve']   \n",
       "1  {'minimum': 'Minimum: Linux Ubuntu 12.04, Dual...             ['Valve']   \n",
       "2  {'minimum': 'Minimum: Linux Ubuntu 12.04, Dual...             ['Valve']   \n",
       "3  {'minimum': 'Minimum: Linux Ubuntu 12.04, Dual...  ['Gearbox Software']   \n",
       "4  {'minimum': 'Minimum: Linux Ubuntu 12.04, Dual...             ['Valve']   \n",
       "\n",
       "  publishers  ... average_2weeks median_forever median_2weeks  price  \\\n",
       "0  ['Valve']  ...              0             19             0  499.0   \n",
       "1  ['Valve']  ...              0             47             0  499.0   \n",
       "2  ['Valve']  ...              0              4             0  499.0   \n",
       "3  ['Valve']  ...              0            123             0  499.0   \n",
       "4  ['Valve']  ...              0              3             0  499.0   \n",
       "\n",
       "   discount         genre  ccu  \\\n",
       "0       0.0  Action Games   98   \n",
       "1       0.0  Action Games  145   \n",
       "2       0.0  Action Games    6   \n",
       "3       0.0  Action Games  156   \n",
       "4       0.0        Action    8   \n",
       "\n",
       "                                                tags  english  release_year  \n",
       "0  {'Action': 738, 'FPS': 300, 'Multiplayer': 253...        1          1999  \n",
       "1  {'FPS': 778, 'World War II': 244, 'Multiplayer...        1          2003  \n",
       "2  {'Action': 626, 'FPS': 136, 'Classic': 104, 'M...        1          2001  \n",
       "3  {'FPS': 871, 'Action': 312, 'Classic': 240, 'S...        1          1999  \n",
       "4  {'Action': 581, 'FPS': 121, 'Multiplayer': 97,...        1          2000  \n",
       "\n",
       "[5 rows x 28 columns]"
      ]
     },
     "execution_count": 833,
     "metadata": {},
     "output_type": "execute_result"
    }
   ],
   "source": [
    "df.head()"
   ]
  },
  {
   "cell_type": "code",
   "execution_count": 943,
   "metadata": {},
   "outputs": [
    {
     "data": {
      "text/plain": [
       "<AxesSubplot:>"
      ]
     },
     "execution_count": 943,
     "metadata": {},
     "output_type": "execute_result"
    },
    {
     "data": {
      "image/png": "[encoded data removed]",
      "text/plain": [
       "<Figure size 800x800 with 1 Axes>"
      ]
     },
     "metadata": {},
     "output_type": "display_data"
    }
   ],
   "source": [
    "# Boxplot for release year\n",
    "plt.figure(figsize=(8,8))\n",
    "df2.boxplot('release_year')"
   ]
  },
  {
   "cell_type": "markdown",
   "metadata": {},
   "source": [
    "## Ratings: Positive and Negative"
   ]
  },
  {
   "cell_type": "code",
   "execution_count": 834,
   "metadata": {},
   "outputs": [],
   "source": [
    "# calculate rating, as well as simple ratio for comparison\n",
    "df['total_ratings'] = df['positive'] + df['negative']"
   ]
  },
  {
   "cell_type": "code",
   "execution_count": 835,
   "metadata": {},
   "outputs": [],
   "source": [
    "df['rating_ratio'] = df['positive'] / df['total_ratings']"
   ]
  },
  {
   "cell_type": "code",
   "execution_count": 838,
   "metadata": {},
   "outputs": [
    {
     "data": {
      "image/png": "[encoded data removed]",
      "text/plain": [
       "<Figure size 640x480 with 1 Axes>"
      ]
     },
     "metadata": {},
     "output_type": "display_data"
    }
   ],
   "source": [
    "grp = df.groupby('owners')\n",
    "\n",
    "ax = (grp['total_ratings'].mean() / sorted(df['owners'].unique())).plot.bar()\n",
    "ax.set_ylabel('Average number of ratings per owner (per sale)')\n",
    "ax.set_title('Expected number of ratings per sale');"
   ]
  },
  {
   "cell_type": "markdown",
   "metadata": {},
   "source": [
    "## Genres"
   ]
  },
  {
   "cell_type": "markdown",
   "metadata": {},
   "source": [
    "Checking all the unique values in the genre column, and because there are so many I decided to remap it into only a few different genre categories. After it's remapped, We check the count of the new values in the graph. Action is the most frequent value in our dataset. I dummify the feature for now to see how it fits into the model "
   ]
  },
  {
   "cell_type": "code",
   "execution_count": 840,
   "metadata": {},
   "outputs": [
    {
     "data": {
      "text/plain": [
       "1570"
      ]
     },
     "execution_count": 840,
     "metadata": {},
     "output_type": "execute_result"
    }
   ],
   "source": [
    "df['genre'].nunique()"
   ]
  },
  {
   "cell_type": "code",
   "execution_count": 841,
   "metadata": {},
   "outputs": [
    {
     "data": {
      "text/plain": [
       "Action Games, Indie                                                                   1161\n",
       "Casual, Indie                                                                         1121\n",
       "Adventure, Indie                                                                      1093\n",
       "Action Games, Adventure, Indie                                                         750\n",
       "Adventure, Casual, Indie                                                               716\n",
       "                                                                                      ... \n",
       "Action Games, Free to Play, Indie, Massively Multiplayer, Simulation, Early Access       1\n",
       "Massively Multiplayer, Racing                                                            1\n",
       "Action, Adventure, Casual, Indie, Racing, RPG, Simulation, Sports                        1\n",
       "Adventure, Casual, Free to Play, Massively Multiplayer, Strategy                         1\n",
       "Indie, Utilities                                                                         1\n",
       "Name: genre, Length: 1570, dtype: int64"
      ]
     },
     "execution_count": 841,
     "metadata": {},
     "output_type": "execute_result"
    }
   ],
   "source": [
    "df['genre'].value_counts()"
   ]
  },
  {
   "cell_type": "code",
   "execution_count": 842,
   "metadata": {},
   "outputs": [],
   "source": [
    "df['genre'] = df['genre'].str.split(',').apply(lambda x: x[0])"
   ]
  },
  {
   "cell_type": "code",
   "execution_count": 844,
   "metadata": {},
   "outputs": [
    {
     "data": {
      "text/plain": [
       "Action Games             6982\n",
       "Adventure                5134\n",
       "Casual                   3857\n",
       "Action                   3719\n",
       "Indie                    2368\n",
       "Free to Play              622\n",
       "Simulation                618\n",
       "Strategy                  537\n",
       "RPG                       433\n",
       "Racing                    195\n",
       "Animation & Modeling      141\n",
       "Utilities                 116\n",
       "Sports                     83\n",
       "Design & Illustration      61\n",
       "Education                  61\n",
       "Audio Production           50\n",
       "Violent                    32\n",
       "Massively Multiplayer      30\n",
       "Sexual Content             14\n",
       "Video Production           14\n",
       "Software Training          11\n",
       "Early Access               10\n",
       "Nudity                      9\n",
       "Game Development            6\n",
       "Photo Editing               5\n",
       "Web Publishing              5\n",
       "Gore                        5\n",
       "Accounting                  4\n",
       "Name: genre, dtype: int64"
      ]
     },
     "execution_count": 844,
     "metadata": {},
     "output_type": "execute_result"
    }
   ],
   "source": [
    "df['genre'].value_counts()"
   ]
  },
  {
   "cell_type": "code",
   "execution_count": 845,
   "metadata": {},
   "outputs": [],
   "source": [
    "df[\"genres\"] = df[\"genre\"].map({\"Action Games\":\"Action\", \"Adventure\":\"Adventure\", \"Casual\":\"Casual\", 'Action':\"Action\", 'Indie':'Indie', 'Free to Play':'Free to Play', \"Simulation\":\"Simulation\",\"RPG\":\"RPG\",\n",
    "                               \"Racing\":\"Sports\", \"Animation & Modeling\":\"Other\", \"Utilities\":\"Other\", \"Sports\":\"Sports\", \"Design & Illustration\":\"Other\", \"Education\":\"Other\", \"Design & Illustration\":\"Other\",\n",
    "                               \"Violent\":\"Other\", \"Massively Multiplayer\":\"Other\", \"Sexual Content\":\"Other\", \"Video Production\":\"Other\", \"Software Training\":\"Other\", \"Early Access\":\"Other\", \"Nudity\":\"Other\",\n",
    "                               \"Game Development\":\"Other\", \"Photo Editing\":\"Other\", \"Web Publishing\":\"Other\", \"Gore\":\"Other\", \"Accounting\":\"Other\"})"
   ]
  },
  {
   "cell_type": "code",
   "execution_count": 847,
   "metadata": {},
   "outputs": [
    {
     "data": {
      "image/png": "[encoded data removed]",
      "text/plain": [
       "<Figure size 900x600 with 1 Axes>"
      ]
     },
     "metadata": {},
     "output_type": "display_data"
    }
   ],
   "source": [
    "# Looking at the number of fatal encounters by race and male/female. \n",
    "_, ax = plt.subplots(figsize=(9, 6))\n",
    "sns.countplot(data = df, x = 'genres');\n",
    "plt.xlabel(\"Genres\", size=19)\n",
    "ax.set_xticklabels(ax.get_xticklabels(), rotation=45)\n",
    "plt.ylabel(\"Frequency\", size=15)\n",
    "plt.title('Genres Count', size=20);"
   ]
  },
  {
   "cell_type": "code",
   "execution_count": 848,
   "metadata": {},
   "outputs": [],
   "source": [
    "df = pd.get_dummies(data=df, columns = ['genres'], drop_first=False)"
   ]
  },
  {
   "cell_type": "markdown",
   "metadata": {},
   "source": [
    "## Puplishers"
   ]
  },
  {
   "cell_type": "markdown",
   "metadata": {},
   "source": [
    "The column with the publishers feature has multiple values so to again keep it simpler, I pull only the first value and drop everything else in the string. "
   ]
  },
  {
   "cell_type": "code",
   "execution_count": 851,
   "metadata": {},
   "outputs": [
    {
     "data": {
      "text/plain": [
       "<bound method IndexOpsMixin.value_counts of 0                       ['Valve']\n",
       "1                       ['Valve']\n",
       "2                       ['Valve']\n",
       "3                       ['Valve']\n",
       "4                       ['Valve']\n",
       "                   ...           \n",
       "25117    ['FreeAnimals_Software']\n",
       "25118           ['TooIzzi Games']\n",
       "25119            ['sixteen bars']\n",
       "25120       ['Sokpop Collective']\n",
       "25121       ['Sokpop Collective']\n",
       "Name: publishers, Length: 25122, dtype: object>"
      ]
     },
     "execution_count": 851,
     "metadata": {},
     "output_type": "execute_result"
    }
   ],
   "source": [
    "df2['publishers'].value_counts"
   ]
  },
  {
   "cell_type": "code",
   "execution_count": 852,
   "metadata": {},
   "outputs": [],
   "source": [
    "df2['publishers_fixed'] = df2['publishers'].str.split(\"'\").apply(lambda x: x[1])"
   ]
  },
  {
   "cell_type": "code",
   "execution_count": 853,
   "metadata": {},
   "outputs": [
    {
     "data": {
      "text/plain": [
       "0                       Valve\n",
       "1                       Valve\n",
       "2                       Valve\n",
       "3                       Valve\n",
       "4                       Valve\n",
       "                 ...         \n",
       "25117    FreeAnimals_Software\n",
       "25118           TooIzzi Games\n",
       "25119            sixteen bars\n",
       "25120       Sokpop Collective\n",
       "25121       Sokpop Collective\n",
       "Name: publishers_fixed, Length: 25122, dtype: object"
      ]
     },
     "execution_count": 853,
     "metadata": {},
     "output_type": "execute_result"
    }
   ],
   "source": [
    "df2['publishers_fixed']"
   ]
  },
  {
   "cell_type": "code",
   "execution_count": 854,
   "metadata": {},
   "outputs": [
    {
     "data": {
      "text/plain": [
       "                   181\n",
       "Square Enix        119\n",
       "Ubisoft            116\n",
       "Strategy First     114\n",
       "THQ Nordic         107\n",
       "                  ... \n",
       "Paul Demanze         1\n",
       "AB SOFT              1\n",
       "Gameclaw Studio      1\n",
       "Tochas Studios       1\n",
       "BreakAway, Ltd.      1\n",
       "Name: publishers_fixed, Length: 13333, dtype: int64"
      ]
     },
     "execution_count": 854,
     "metadata": {},
     "output_type": "execute_result"
    }
   ],
   "source": [
    "df2['publishers_fixed'].value_counts()"
   ]
  },
  {
   "cell_type": "code",
   "execution_count": 855,
   "metadata": {},
   "outputs": [],
   "source": [
    "df2['developers_fixed'] = df2['developers'].str.split(\"'\").apply(lambda x: x[1])"
   ]
  },
  {
   "cell_type": "code",
   "execution_count": 856,
   "metadata": {},
   "outputs": [
    {
     "data": {
      "text/plain": [
       "windows              17095\n",
       "windows;mac;linux     4140\n",
       "windows;mac           3252\n",
       "windows;linux          631\n",
       "mac                      3\n",
       "mac;linux                1\n",
       "Name: platforms, dtype: int64"
      ]
     },
     "execution_count": 856,
     "metadata": {},
     "output_type": "execute_result"
    }
   ],
   "source": [
    "df2['platforms'].value_counts()"
   ]
  },
  {
   "cell_type": "markdown",
   "metadata": {},
   "source": [
    "## Catagories "
   ]
  },
  {
   "cell_type": "markdown",
   "metadata": {},
   "source": [
    "To  handle the catagory column, the loop and lambda function first checks if the catagory is in the row, pulls it out and remaps it as just Single/Multi, Multi-player, Single-player or else as Other which will be dropped. Finally, catagory will be dummified. "
   ]
  },
  {
   "cell_type": "code",
   "execution_count": 858,
   "metadata": {},
   "outputs": [
    {
     "data": {
      "text/plain": [
       "[{'id': 2, 'description': 'Single-player'}]                                                                                                                                                                                                                                                                                                                                                                                                         4949\n",
       "[{'id': 2, 'description': 'Single-player'}, {'id': 22, 'description': 'Steam Achievements'}]                                                                                                                                                                                                                                                                                                                                                        1945\n",
       "[{'id': 2, 'description': 'Single-player'}, {'id': 22, 'description': 'Steam Achievements'}, {'id': 29, 'description': 'Steam Trading Cards'}]                                                                                                                                                                                                                                                                                                       744\n",
       "[{'id': 2, 'description': 'Single-player'}, {'id': 22, 'description': 'Steam Achievements'}, {'id': 23, 'description': 'Steam Cloud'}]                                                                                                                                                                                                                                                                                                               718\n",
       "[{'id': 2, 'description': 'Single-player'}, {'id': 18, 'description': 'Partial Controller Support'}]                                                                                                                                                                                                                                                                                                                                                 708\n",
       "                                                                                                                                                                                                                                                                                                                                                                                                                                                    ... \n",
       "[{'id': 2, 'description': 'Single-player'}, {'id': 22, 'description': 'Steam Achievements'}, {'id': 30, 'description': 'Steam Workshop'}, {'id': 23, 'description': 'Steam Cloud'}, {'id': 17, 'description': 'Includes level editor'}, {'id': 14, 'description': 'Commentary available'}]                                                                                                                                                             1\n",
       "[{'id': 1, 'description': 'Multi-player'}, {'id': 49, 'description': 'PvP'}, {'id': 36, 'description': 'Online PvP'}, {'id': 9, 'description': 'Co-op'}, {'id': 38, 'description': 'Online Co-op'}, {'id': 22, 'description': 'Steam Achievements'}, {'id': 28, 'description': 'Full controller support'}, {'id': 35, 'description': 'In-App Purchases'}]                                                                                              1\n",
       "[{'id': 1, 'description': 'Multi-player'}, {'id': 29, 'description': 'Steam Trading Cards'}, {'id': 23, 'description': 'Steam Cloud'}]                                                                                                                                                                                                                                                                                                                 1\n",
       "[{'id': 2, 'description': 'Single-player'}, {'id': 1, 'description': 'Multi-player'}, {'id': 29, 'description': 'Steam Trading Cards'}, {'id': 17, 'description': 'Includes level editor'}]                                                                                                                                                                                                                                                            1\n",
       "[{'id': 1, 'description': 'Multi-player'}, {'id': 49, 'description': 'PvP'}, {'id': 36, 'description': 'Online PvP'}, {'id': 37, 'description': 'Shared/Split Screen PvP'}, {'id': 24, 'description': 'Shared/Split Screen'}, {'id': 18, 'description': 'Partial Controller Support'}, {'id': 41, 'description': 'Remote Play on Phone'}, {'id': 42, 'description': 'Remote Play on Tablet'}, {'id': 44, 'description': 'Remote Play Together'}]       1\n",
       "Name: catagories, Length: 3648, dtype: int64"
      ]
     },
     "execution_count": 858,
     "metadata": {},
     "output_type": "execute_result"
    }
   ],
   "source": [
    "df2['catagories'].value_counts()"
   ]
  },
  {
   "cell_type": "code",
   "execution_count": 859,
   "metadata": {},
   "outputs": [],
   "source": [
    "def getCat(cat):\n",
    "    if \"Multi-player\" in cat and \"Single-player\" in cat:\n",
    "        return \"Single/Multi\"\n",
    "    elif \"Multi-player\" in cat:\n",
    "        return \"Multi\"\n",
    "    elif \"Single-player\" in cat:\n",
    "        return \"Single\"\n",
    "    else:\n",
    "        return \"Other\"\n",
    "        \n",
    "df2['catagories_fixed'] = df2['catagories'].str.split(\"'\").apply(lambda x: getCat(x))"
   ]
  },
  {
   "cell_type": "code",
   "execution_count": 860,
   "metadata": {},
   "outputs": [
    {
     "data": {
      "text/plain": [
       "Single          18295\n",
       "Single/Multi     4908\n",
       "Multi            1382\n",
       "Other             537\n",
       "Name: catagories_fixed, dtype: int64"
      ]
     },
     "execution_count": 860,
     "metadata": {},
     "output_type": "execute_result"
    }
   ],
   "source": [
    "df2['catagories_fixed'].value_counts()"
   ]
  },
  {
   "cell_type": "code",
   "execution_count": 861,
   "metadata": {},
   "outputs": [],
   "source": [
    "df2.drop(columns=['pc_requirements', 'mac_requirements', 'linux_requirements', 'content_descriptors', 'median_forever', 'median_2weeks', \n",
    "                  'short_description', 'publishers', 'developers', 'catagories','tags'], inplace=True)"
   ]
  },
  {
   "cell_type": "code",
   "execution_count": 862,
   "metadata": {},
   "outputs": [],
   "source": [
    "df2 = pd.get_dummies(data=df2, columns = ['catagories_fixed'], drop_first=False)"
   ]
  },
  {
   "cell_type": "code",
   "execution_count": 863,
   "metadata": {},
   "outputs": [],
   "source": [
    "df2 = pd.get_dummies(data=df2, columns = ['platforms'], drop_first=False)"
   ]
  },
  {
   "cell_type": "markdown",
   "metadata": {},
   "source": [
    "sns.countplot(x ='developers', data = df2)\n",
    "plt.show()"
   ]
  },
  {
   "cell_type": "code",
   "execution_count": 864,
   "metadata": {},
   "outputs": [
    {
     "data": {
      "text/plain": [
       "                            181\n",
       "Square Enix                 119\n",
       "Ubisoft                     116\n",
       "Strategy First              114\n",
       "THQ Nordic                  107\n",
       "                           ... \n",
       "Dream Catcher Chronicles      1\n",
       "Cowardly Creations            1\n",
       "Ritual Entertainment          1\n",
       "Bannerman Games               1\n",
       "Brain Stone GmbH              1\n",
       "Name: publishers_fixed, Length: 13333, dtype: int64"
      ]
     },
     "execution_count": 864,
     "metadata": {},
     "output_type": "execute_result"
    }
   ],
   "source": [
    "df2['publishers_fixed'].value_counts().sort_values(ascending=False)"
   ]
  },
  {
   "cell_type": "code",
   "execution_count": 865,
   "metadata": {},
   "outputs": [
    {
     "data": {
      "text/plain": [
       "KOEI TECMO GAMES CO., LTD.    63\n",
       "RewindApp                     46\n",
       "Square Enix                   42\n",
       "Choice of Games               41\n",
       "Nikita \"Ghost_RUS\"            38\n",
       "                              ..\n",
       "SoerGame                       1\n",
       "Maurice Fernitz                1\n",
       "Tlön Industries                1\n",
       "Indimo Labs LLC                1\n",
       "Big Corporation                1\n",
       "Name: developers_fixed, Length: 16014, dtype: int64"
      ]
     },
     "execution_count": 865,
     "metadata": {},
     "output_type": "execute_result"
    }
   ],
   "source": [
    "df2['developers_fixed'].value_counts().sort_values(ascending=False)"
   ]
  },
  {
   "cell_type": "code",
   "execution_count": 884,
   "metadata": {},
   "outputs": [
    {
     "data": {
      "text/html": [
       "<div>\n",
       "<style scoped>\n",
       "    .dataframe tbody tr th:only-of-type {\n",
       "        vertical-align: middle;\n",
       "    }\n",
       "\n",
       "    .dataframe tbody tr th {\n",
       "        vertical-align: top;\n",
       "    }\n",
       "\n",
       "    .dataframe thead th {\n",
       "        text-align: right;\n",
       "    }\n",
       "</style>\n",
       "<table border=\"1\" class=\"dataframe\">\n",
       "  <thead>\n",
       "    <tr style=\"text-align: right;\">\n",
       "      <th></th>\n",
       "      <th>appid</th>\n",
       "      <th>required_age</th>\n",
       "      <th>positive</th>\n",
       "      <th>negative</th>\n",
       "      <th>owners</th>\n",
       "      <th>average_forever</th>\n",
       "      <th>average_2weeks</th>\n",
       "      <th>price</th>\n",
       "      <th>discount</th>\n",
       "      <th>ccu</th>\n",
       "      <th>...</th>\n",
       "      <th>catagories_fixed_Multi</th>\n",
       "      <th>catagories_fixed_Other</th>\n",
       "      <th>catagories_fixed_Single</th>\n",
       "      <th>catagories_fixed_Single/Multi</th>\n",
       "      <th>platforms_mac</th>\n",
       "      <th>platforms_mac;linux</th>\n",
       "      <th>platforms_windows</th>\n",
       "      <th>platforms_windows;linux</th>\n",
       "      <th>platforms_windows;mac</th>\n",
       "      <th>platforms_windows;mac;linux</th>\n",
       "    </tr>\n",
       "  </thead>\n",
       "  <tbody>\n",
       "    <tr>\n",
       "      <th>count</th>\n",
       "      <td>2.512200e+04</td>\n",
       "      <td>25120.000000</td>\n",
       "      <td>2.512200e+04</td>\n",
       "      <td>25122.000000</td>\n",
       "      <td>2.512200e+04</td>\n",
       "      <td>25122.000000</td>\n",
       "      <td>25122.000000</td>\n",
       "      <td>25122.000000</td>\n",
       "      <td>25122.000000</td>\n",
       "      <td>25122.000000</td>\n",
       "      <td>...</td>\n",
       "      <td>25122.000000</td>\n",
       "      <td>25122.000000</td>\n",
       "      <td>25122.000000</td>\n",
       "      <td>25122.000000</td>\n",
       "      <td>25122.000000</td>\n",
       "      <td>25122.000000</td>\n",
       "      <td>25122.000000</td>\n",
       "      <td>25122.000000</td>\n",
       "      <td>25122.000000</td>\n",
       "      <td>25122.000000</td>\n",
       "    </tr>\n",
       "    <tr>\n",
       "      <th>mean</th>\n",
       "      <td>7.028014e+05</td>\n",
       "      <td>0.606409</td>\n",
       "      <td>2.085334e+03</td>\n",
       "      <td>357.317053</td>\n",
       "      <td>1.201198e+05</td>\n",
       "      <td>212.581562</td>\n",
       "      <td>16.611735</td>\n",
       "      <td>787.143579</td>\n",
       "      <td>2.876005</td>\n",
       "      <td>222.972614</td>\n",
       "      <td>...</td>\n",
       "      <td>0.055012</td>\n",
       "      <td>0.021376</td>\n",
       "      <td>0.728246</td>\n",
       "      <td>0.195367</td>\n",
       "      <td>0.000119</td>\n",
       "      <td>0.000040</td>\n",
       "      <td>0.680479</td>\n",
       "      <td>0.025117</td>\n",
       "      <td>0.129448</td>\n",
       "      <td>0.164796</td>\n",
       "    </tr>\n",
       "    <tr>\n",
       "      <th>std</th>\n",
       "      <td>3.753743e+05</td>\n",
       "      <td>3.197405</td>\n",
       "      <td>3.453146e+04</td>\n",
       "      <td>6793.083317</td>\n",
       "      <td>1.168533e+06</td>\n",
       "      <td>1996.006436</td>\n",
       "      <td>168.313698</td>\n",
       "      <td>1042.648969</td>\n",
       "      <td>13.536636</td>\n",
       "      <td>7859.256012</td>\n",
       "      <td>...</td>\n",
       "      <td>0.228007</td>\n",
       "      <td>0.144636</td>\n",
       "      <td>0.444873</td>\n",
       "      <td>0.396491</td>\n",
       "      <td>0.010927</td>\n",
       "      <td>0.006309</td>\n",
       "      <td>0.466300</td>\n",
       "      <td>0.156485</td>\n",
       "      <td>0.335702</td>\n",
       "      <td>0.371004</td>\n",
       "    </tr>\n",
       "    <tr>\n",
       "      <th>min</th>\n",
       "      <td>2.000000e+01</td>\n",
       "      <td>0.000000</td>\n",
       "      <td>0.000000e+00</td>\n",
       "      <td>0.000000</td>\n",
       "      <td>0.000000e+00</td>\n",
       "      <td>0.000000</td>\n",
       "      <td>0.000000</td>\n",
       "      <td>0.000000</td>\n",
       "      <td>0.000000</td>\n",
       "      <td>0.000000</td>\n",
       "      <td>...</td>\n",
       "      <td>0.000000</td>\n",
       "      <td>0.000000</td>\n",
       "      <td>0.000000</td>\n",
       "      <td>0.000000</td>\n",
       "      <td>0.000000</td>\n",
       "      <td>0.000000</td>\n",
       "      <td>0.000000</td>\n",
       "      <td>0.000000</td>\n",
       "      <td>0.000000</td>\n",
       "      <td>0.000000</td>\n",
       "    </tr>\n",
       "    <tr>\n",
       "      <th>25%</th>\n",
       "      <td>3.942825e+05</td>\n",
       "      <td>0.000000</td>\n",
       "      <td>1.400000e+01</td>\n",
       "      <td>5.000000</td>\n",
       "      <td>0.000000e+00</td>\n",
       "      <td>0.000000</td>\n",
       "      <td>0.000000</td>\n",
       "      <td>99.000000</td>\n",
       "      <td>0.000000</td>\n",
       "      <td>0.000000</td>\n",
       "      <td>...</td>\n",
       "      <td>0.000000</td>\n",
       "      <td>0.000000</td>\n",
       "      <td>0.000000</td>\n",
       "      <td>0.000000</td>\n",
       "      <td>0.000000</td>\n",
       "      <td>0.000000</td>\n",
       "      <td>0.000000</td>\n",
       "      <td>0.000000</td>\n",
       "      <td>0.000000</td>\n",
       "      <td>0.000000</td>\n",
       "    </tr>\n",
       "    <tr>\n",
       "      <th>50%</th>\n",
       "      <td>6.546850e+05</td>\n",
       "      <td>0.000000</td>\n",
       "      <td>6.250000e+01</td>\n",
       "      <td>21.000000</td>\n",
       "      <td>0.000000e+00</td>\n",
       "      <td>0.000000</td>\n",
       "      <td>0.000000</td>\n",
       "      <td>499.000000</td>\n",
       "      <td>0.000000</td>\n",
       "      <td>0.000000</td>\n",
       "      <td>...</td>\n",
       "      <td>0.000000</td>\n",
       "      <td>0.000000</td>\n",
       "      <td>1.000000</td>\n",
       "      <td>0.000000</td>\n",
       "      <td>0.000000</td>\n",
       "      <td>0.000000</td>\n",
       "      <td>1.000000</td>\n",
       "      <td>0.000000</td>\n",
       "      <td>0.000000</td>\n",
       "      <td>0.000000</td>\n",
       "    </tr>\n",
       "    <tr>\n",
       "      <th>75%</th>\n",
       "      <td>9.998525e+05</td>\n",
       "      <td>0.000000</td>\n",
       "      <td>3.300000e+02</td>\n",
       "      <td>87.000000</td>\n",
       "      <td>5.000000e+04</td>\n",
       "      <td>151.000000</td>\n",
       "      <td>0.000000</td>\n",
       "      <td>999.000000</td>\n",
       "      <td>0.000000</td>\n",
       "      <td>4.000000</td>\n",
       "      <td>...</td>\n",
       "      <td>0.000000</td>\n",
       "      <td>0.000000</td>\n",
       "      <td>1.000000</td>\n",
       "      <td>0.000000</td>\n",
       "      <td>0.000000</td>\n",
       "      <td>0.000000</td>\n",
       "      <td>1.000000</td>\n",
       "      <td>0.000000</td>\n",
       "      <td>0.000000</td>\n",
       "      <td>0.000000</td>\n",
       "    </tr>\n",
       "    <tr>\n",
       "      <th>max</th>\n",
       "      <td>1.519770e+06</td>\n",
       "      <td>18.000000</td>\n",
       "      <td>4.598654e+06</td>\n",
       "      <td>757174.000000</td>\n",
       "      <td>1.000000e+08</td>\n",
       "      <td>228799.000000</td>\n",
       "      <td>12036.000000</td>\n",
       "      <td>39900.000000</td>\n",
       "      <td>90.000000</td>\n",
       "      <td>999242.000000</td>\n",
       "      <td>...</td>\n",
       "      <td>1.000000</td>\n",
       "      <td>1.000000</td>\n",
       "      <td>1.000000</td>\n",
       "      <td>1.000000</td>\n",
       "      <td>1.000000</td>\n",
       "      <td>1.000000</td>\n",
       "      <td>1.000000</td>\n",
       "      <td>1.000000</td>\n",
       "      <td>1.000000</td>\n",
       "      <td>1.000000</td>\n",
       "    </tr>\n",
       "  </tbody>\n",
       "</table>\n",
       "<p>8 rows × 33 columns</p>\n",
       "</div>"
      ],
      "text/plain": [
       "              appid  required_age      positive       negative        owners  \\\n",
       "count  2.512200e+04  25120.000000  2.512200e+04   25122.000000  2.512200e+04   \n",
       "mean   7.028014e+05      0.606409  2.085334e+03     357.317053  1.201198e+05   \n",
       "std    3.753743e+05      3.197405  3.453146e+04    6793.083317  1.168533e+06   \n",
       "min    2.000000e+01      0.000000  0.000000e+00       0.000000  0.000000e+00   \n",
       "25%    3.942825e+05      0.000000  1.400000e+01       5.000000  0.000000e+00   \n",
       "50%    6.546850e+05      0.000000  6.250000e+01      21.000000  0.000000e+00   \n",
       "75%    9.998525e+05      0.000000  3.300000e+02      87.000000  5.000000e+04   \n",
       "max    1.519770e+06     18.000000  4.598654e+06  757174.000000  1.000000e+08   \n",
       "\n",
       "       average_forever  average_2weeks         price      discount  \\\n",
       "count     25122.000000    25122.000000  25122.000000  25122.000000   \n",
       "mean        212.581562       16.611735    787.143579      2.876005   \n",
       "std        1996.006436      168.313698   1042.648969     13.536636   \n",
       "min           0.000000        0.000000      0.000000      0.000000   \n",
       "25%           0.000000        0.000000     99.000000      0.000000   \n",
       "50%           0.000000        0.000000    499.000000      0.000000   \n",
       "75%         151.000000        0.000000    999.000000      0.000000   \n",
       "max      228799.000000    12036.000000  39900.000000     90.000000   \n",
       "\n",
       "                 ccu  ...  catagories_fixed_Multi  catagories_fixed_Other  \\\n",
       "count   25122.000000  ...            25122.000000            25122.000000   \n",
       "mean      222.972614  ...                0.055012                0.021376   \n",
       "std      7859.256012  ...                0.228007                0.144636   \n",
       "min         0.000000  ...                0.000000                0.000000   \n",
       "25%         0.000000  ...                0.000000                0.000000   \n",
       "50%         0.000000  ...                0.000000                0.000000   \n",
       "75%         4.000000  ...                0.000000                0.000000   \n",
       "max    999242.000000  ...                1.000000                1.000000   \n",
       "\n",
       "       catagories_fixed_Single  catagories_fixed_Single/Multi  platforms_mac  \\\n",
       "count             25122.000000                   25122.000000   25122.000000   \n",
       "mean                  0.728246                       0.195367       0.000119   \n",
       "std                   0.444873                       0.396491       0.010927   \n",
       "min                   0.000000                       0.000000       0.000000   \n",
       "25%                   0.000000                       0.000000       0.000000   \n",
       "50%                   1.000000                       0.000000       0.000000   \n",
       "75%                   1.000000                       0.000000       0.000000   \n",
       "max                   1.000000                       1.000000       1.000000   \n",
       "\n",
       "       platforms_mac;linux  platforms_windows  platforms_windows;linux  \\\n",
       "count         25122.000000       25122.000000             25122.000000   \n",
       "mean              0.000040           0.680479                 0.025117   \n",
       "std               0.006309           0.466300                 0.156485   \n",
       "min               0.000000           0.000000                 0.000000   \n",
       "25%               0.000000           0.000000                 0.000000   \n",
       "50%               0.000000           1.000000                 0.000000   \n",
       "75%               0.000000           1.000000                 0.000000   \n",
       "max               1.000000           1.000000                 1.000000   \n",
       "\n",
       "       platforms_windows;mac  platforms_windows;mac;linux  \n",
       "count           25122.000000                 25122.000000  \n",
       "mean                0.129448                     0.164796  \n",
       "std                 0.335702                     0.371004  \n",
       "min                 0.000000                     0.000000  \n",
       "25%                 0.000000                     0.000000  \n",
       "50%                 0.000000                     0.000000  \n",
       "75%                 0.000000                     0.000000  \n",
       "max                 1.000000                     1.000000  \n",
       "\n",
       "[8 rows x 33 columns]"
      ]
     },
     "execution_count": 884,
     "metadata": {},
     "output_type": "execute_result"
    }
   ],
   "source": [
    "df2.describe()"
   ]
  },
  {
   "cell_type": "code",
   "execution_count": 885,
   "metadata": {},
   "outputs": [
    {
     "data": {
      "image/png": "[encoded data removed]",
      "text/plain": [
       "<Figure size 1800x1600 with 2 Axes>"
      ]
     },
     "metadata": {},
     "output_type": "display_data"
    }
   ],
   "source": [
    "plt.figure(figsize=(18,16 ))\n",
    "sns.heatmap(df2.corr()[['average_forever']].sort_values(by='average_forever', ascending=False), annot=True, vmin=-1, vmax=1, cmap='ocean_r');"
   ]
  },
  {
   "cell_type": "markdown",
   "metadata": {},
   "source": [
    "## Price"
   ]
  },
  {
   "cell_type": "code",
   "execution_count": 886,
   "metadata": {},
   "outputs": [
    {
     "data": {
      "text/plain": [
       "0.0       4811\n",
       "999.0     2868\n",
       "499.0     2519\n",
       "99.0      2200\n",
       "1499.0    1544\n",
       "          ... \n",
       "2998.0       1\n",
       "1104.0       1\n",
       "833.0        1\n",
       "56.0         1\n",
       "624.0        1\n",
       "Name: price, Length: 226, dtype: int64"
      ]
     },
     "execution_count": 886,
     "metadata": {},
     "output_type": "execute_result"
    }
   ],
   "source": [
    "df2['price'].value_counts().sort_values(ascending=False)"
   ]
  },
  {
   "cell_type": "code",
   "execution_count": 901,
   "metadata": {},
   "outputs": [
    {
     "data": {
      "text/plain": [
       "<AxesSubplot:>"
      ]
     },
     "execution_count": 901,
     "metadata": {},
     "output_type": "execute_result"
    },
    {
     "data": {
      "image/png": "[encoded data removed]",
      "text/plain": [
       "<Figure size 800x800 with 1 Axes>"
      ]
     },
     "metadata": {},
     "output_type": "display_data"
    }
   ],
   "source": [
    "# Boxplot for Age\n",
    "plt.figure(figsize=(8,8))\n",
    "df2.boxplot('price')"
   ]
  },
  {
   "cell_type": "code",
   "execution_count": 898,
   "metadata": {},
   "outputs": [],
   "source": [
    "# fining and dropping the outlier in price column \n",
    "index_names = df2[ df2['price'] == 39900.0 ].index "
   ]
  },
  {
   "cell_type": "code",
   "execution_count": 899,
   "metadata": {},
   "outputs": [],
   "source": [
    "df2.drop(index_names, inplace=True)"
   ]
  },
  {
   "cell_type": "code",
   "execution_count": 900,
   "metadata": {},
   "outputs": [
    {
     "data": {
      "text/plain": [
       "12455    19999.0\n",
       "23569    19999.0\n",
       "22504    19999.0\n",
       "9805     19900.0\n",
       "17038    19900.0\n",
       "          ...   \n",
       "18959        0.0\n",
       "3803         0.0\n",
       "3804         0.0\n",
       "3805         0.0\n",
       "12560        0.0\n",
       "Name: price, Length: 25121, dtype: float64"
      ]
     },
     "execution_count": 900,
     "metadata": {},
     "output_type": "execute_result"
    }
   ],
   "source": [
    "df2['price'].sort_values(ascending=False)"
   ]
  },
  {
   "cell_type": "code",
   "execution_count": 920,
   "metadata": {},
   "outputs": [
    {
     "data": {
      "text/plain": [
       "4710     228799\n",
       "13064    136088\n",
       "18819     61785\n",
       "20190     45740\n",
       "13159     45013\n",
       "          ...  \n",
       "16683         0\n",
       "16684         0\n",
       "16685         0\n",
       "16686         0\n",
       "12560         0\n",
       "Name: average_forever, Length: 25121, dtype: int64"
      ]
     },
     "execution_count": 920,
     "metadata": {},
     "output_type": "execute_result"
    }
   ],
   "source": [
    "df2['average_forever'].sort_values(ascending=False)"
   ]
  },
  {
   "cell_type": "code",
   "execution_count": 921,
   "metadata": {},
   "outputs": [],
   "source": [
    "# Dropping the rows where average_forever is 0 (no accumulated average minutes)\n",
    "index_name = df2[ df2['average_forever'] == 0].index "
   ]
  },
  {
   "cell_type": "code",
   "execution_count": 923,
   "metadata": {},
   "outputs": [],
   "source": [
    "df3 = df2.drop(index_name)"
   ]
  },
  {
   "cell_type": "code",
   "execution_count": 926,
   "metadata": {},
   "outputs": [
    {
     "data": {
      "text/plain": [
       "<AxesSubplot:>"
      ]
     },
     "execution_count": 926,
     "metadata": {},
     "output_type": "execute_result"
    },
    {
     "data": {
      "image/png": "[encoded data removed]",
      "text/plain": [
       "<Figure size 800x800 with 1 Axes>"
      ]
     },
     "metadata": {},
     "output_type": "display_data"
    }
   ],
   "source": [
    "# Boxplot for Age\n",
    "plt.figure(figsize=(8,8))\n",
    "df3.boxplot('average_forever')"
   ]
  },
  {
   "cell_type": "code",
   "execution_count": 931,
   "metadata": {},
   "outputs": [],
   "source": [
    "df4.drop(columns=['name', 'required_age', 'free', 'genres_Free to Play', 'publishers_fixed', 'developers_fixed', 'english', 'ccu', 'average_2weeks',\n",
    "                 'discount'], inplace=True)"
   ]
  },
  {
   "cell_type": "code",
   "execution_count": 934,
   "metadata": {},
   "outputs": [],
   "source": [
    "df4.drop(columns=['genres_Simulation', 'rating_ratio', 'release_year', 'platforms_windows;mac', 'platforms_windows', 'platforms_windows;linux',\n",
    "                  'platforms_windows;mac;linux','platforms_mac', 'platforms_mac;linux'],inplace=True)"
   ]
  },
  {
   "cell_type": "code",
   "execution_count": 935,
   "metadata": {},
   "outputs": [
    {
     "data": {
      "image/png": "[encoded data removed]",
      "text/plain": [
       "<Figure size 1800x1600 with 2 Axes>"
      ]
     },
     "metadata": {},
     "output_type": "display_data"
    }
   ],
   "source": [
    "plt.figure(figsize=(18,16 ))\n",
    "sns.heatmap(df4.corr()[['average_forever']].sort_values(by='average_forever', ascending=False), annot=True, vmin=-1, vmax=1, cmap='ocean_r');"
   ]
  },
  {
   "cell_type": "code",
   "execution_count": 936,
   "metadata": {},
   "outputs": [],
   "source": [
    "df4.to_csv('model_4.csv',index=False)"
   ]
  },
  {
   "cell_type": "code",
   "execution_count": 937,
   "metadata": {},
   "outputs": [
    {
     "data": {
      "image/png": "[encoded data removed]",
      "text/plain": [
       "<Figure size 500x500 with 6 Axes>"
      ]
     },
     "metadata": {},
     "output_type": "display_data"
    }
   ],
   "source": [
    "# Grabbing just the price and average forever\n",
    "sns.pairplot(df4[['price', 'average_forever']]);"
   ]
  }
 ],
 "metadata": {
  "kernelspec": {
   "display_name": "Python 3",
   "language": "python",
   "name": "python3"
  },
  "language_info": {
   "codemirror_mode": {
    "name": "ipython",
    "version": 3
   },
   "file_extension": ".py",
   "mimetype": "text/x-python",
   "name": "python",
   "nbconvert_exporter": "python",
   "pygments_lexer": "ipython3",
   "version": "3.8.3"
  }
 },
 "nbformat": 4,
 "nbformat_minor": 4
}
