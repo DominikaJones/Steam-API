{
 "cells": [
  {
   "cell_type": "markdown",
   "metadata": {},
   "source": [
    "# Predicting STEAM User Engagement"
   ]
  },
  {
   "cell_type": "markdown",
   "metadata": {},
   "source": [
    "## Model Development: Linear Regression, Random Forest Regressor and Gradient Boost Regressor"
   ]
  },
  {
   "cell_type": "code",
   "execution_count": 328,
   "metadata": {},
   "outputs": [],
   "source": [
    "# Imports\n",
    "import numpy as np\n",
    "import matplotlib.pyplot as plt  \n",
    "import pandas as pd \n",
    "import seaborn as sns\n",
    "import sklearn.metrics as metrics\n",
    "from sklearn.linear_model import LinearRegression\n",
    "from sklearn.ensemble import RandomForestRegressor, GradientBoostingRegressor\n",
    "from sklearn.model_selection import train_test_split, cross_val_score, GridSearchCV\n",
    "from sklearn.model_selection import cross_val_predict\n",
    "\n",
    "from sklearn.metrics import mean_squared_error, r2_score\n",
    "from sklearn.linear_model import Ridge, Lasso\n",
    "from sklearn.preprocessing import PolynomialFeatures, StandardScaler"
   ]
  },
  {
   "cell_type": "code",
   "execution_count": 249,
   "metadata": {},
   "outputs": [],
   "source": [
    "df = pd.read_csv('model_6.csv')  # load data set"
   ]
  },
  {
   "cell_type": "code",
   "execution_count": 250,
   "metadata": {},
   "outputs": [
    {
     "name": "stdout",
     "output_type": "stream",
     "text": [
      "<class 'pandas.core.frame.DataFrame'>\n",
      "RangeIndex: 10247 entries, 0 to 10246\n",
      "Data columns (total 20 columns):\n",
      " #   Column                         Non-Null Count  Dtype  \n",
      "---  ------                         --------------  -----  \n",
      " 0   appid                          10247 non-null  int64  \n",
      " 1   release_date                   10247 non-null  object \n",
      " 2   positive                       10247 non-null  int64  \n",
      " 3   negative                       10247 non-null  int64  \n",
      " 4   owners                         10247 non-null  int64  \n",
      " 5   average_forever                10247 non-null  int64  \n",
      " 6   price                          10247 non-null  float64\n",
      " 7   genre                          10247 non-null  object \n",
      " 8   total_ratings                  10247 non-null  int64  \n",
      " 9   genres_Action                  10247 non-null  int64  \n",
      " 10  genres_Adventure               10247 non-null  int64  \n",
      " 11  genres_Casual                  10247 non-null  int64  \n",
      " 12  genres_Indie                   10247 non-null  int64  \n",
      " 13  genres_Other                   10247 non-null  int64  \n",
      " 14  genres_RPG                     10247 non-null  int64  \n",
      " 15  genres_Sports                  10247 non-null  int64  \n",
      " 16  catagories_fixed_Multi         10247 non-null  int64  \n",
      " 17  catagories_fixed_Other         10247 non-null  int64  \n",
      " 18  catagories_fixed_Single        10247 non-null  int64  \n",
      " 19  catagories_fixed_Single/Multi  10247 non-null  int64  \n",
      "dtypes: float64(1), int64(17), object(2)\n",
      "memory usage: 1.6+ MB\n"
     ]
    }
   ],
   "source": [
    "df.info()"
   ]
  },
  {
   "cell_type": "code",
   "execution_count": 251,
   "metadata": {},
   "outputs": [],
   "source": [
    "df = df.dropna()"
   ]
  },
  {
   "cell_type": "code",
   "execution_count": 253,
   "metadata": {},
   "outputs": [],
   "source": [
    "df2.drop(columns=['genre'],inplace=True)"
   ]
  },
  {
   "cell_type": "code",
   "execution_count": 255,
   "metadata": {},
   "outputs": [],
   "source": [
    "df2['log_playtime'] = np.log(df2['average_forever']) "
   ]
  },
  {
   "cell_type": "code",
   "execution_count": 256,
   "metadata": {},
   "outputs": [
    {
     "data": {
      "text/html": [
       "<div>\n",
       "<style scoped>\n",
       "    .dataframe tbody tr th:only-of-type {\n",
       "        vertical-align: middle;\n",
       "    }\n",
       "\n",
       "    .dataframe tbody tr th {\n",
       "        vertical-align: top;\n",
       "    }\n",
       "\n",
       "    .dataframe thead th {\n",
       "        text-align: right;\n",
       "    }\n",
       "</style>\n",
       "<table border=\"1\" class=\"dataframe\">\n",
       "  <thead>\n",
       "    <tr style=\"text-align: right;\">\n",
       "      <th></th>\n",
       "      <th>appid</th>\n",
       "      <th>positive</th>\n",
       "      <th>negative</th>\n",
       "      <th>owners</th>\n",
       "      <th>average_forever</th>\n",
       "      <th>price</th>\n",
       "      <th>genres_Action</th>\n",
       "      <th>genres_Adventure</th>\n",
       "      <th>genres_Casual</th>\n",
       "      <th>genres_Indie</th>\n",
       "      <th>genres_Other</th>\n",
       "      <th>genres_RPG</th>\n",
       "      <th>catagories_fixed_Multi</th>\n",
       "      <th>catagories_fixed_Single</th>\n",
       "      <th>catagories_fixed_Single/Multi</th>\n",
       "      <th>log_playtime</th>\n",
       "    </tr>\n",
       "  </thead>\n",
       "  <tbody>\n",
       "    <tr>\n",
       "      <th>0</th>\n",
       "      <td>20</td>\n",
       "      <td>4691</td>\n",
       "      <td>815</td>\n",
       "      <td>2000000</td>\n",
       "      <td>92</td>\n",
       "      <td>499.0</td>\n",
       "      <td>1</td>\n",
       "      <td>0</td>\n",
       "      <td>0</td>\n",
       "      <td>0</td>\n",
       "      <td>0</td>\n",
       "      <td>0</td>\n",
       "      <td>1</td>\n",
       "      <td>0</td>\n",
       "      <td>0</td>\n",
       "      <td>4.521789</td>\n",
       "    </tr>\n",
       "    <tr>\n",
       "      <th>1</th>\n",
       "      <td>30</td>\n",
       "      <td>4564</td>\n",
       "      <td>500</td>\n",
       "      <td>5000000</td>\n",
       "      <td>299</td>\n",
       "      <td>499.0</td>\n",
       "      <td>1</td>\n",
       "      <td>0</td>\n",
       "      <td>0</td>\n",
       "      <td>0</td>\n",
       "      <td>0</td>\n",
       "      <td>0</td>\n",
       "      <td>1</td>\n",
       "      <td>0</td>\n",
       "      <td>0</td>\n",
       "      <td>5.700444</td>\n",
       "    </tr>\n",
       "    <tr>\n",
       "      <th>2</th>\n",
       "      <td>40</td>\n",
       "      <td>1668</td>\n",
       "      <td>360</td>\n",
       "      <td>100000</td>\n",
       "      <td>23</td>\n",
       "      <td>499.0</td>\n",
       "      <td>1</td>\n",
       "      <td>0</td>\n",
       "      <td>0</td>\n",
       "      <td>0</td>\n",
       "      <td>0</td>\n",
       "      <td>0</td>\n",
       "      <td>1</td>\n",
       "      <td>0</td>\n",
       "      <td>0</td>\n",
       "      <td>3.135494</td>\n",
       "    </tr>\n",
       "    <tr>\n",
       "      <th>3</th>\n",
       "      <td>50</td>\n",
       "      <td>10197</td>\n",
       "      <td>535</td>\n",
       "      <td>5000000</td>\n",
       "      <td>218</td>\n",
       "      <td>499.0</td>\n",
       "      <td>1</td>\n",
       "      <td>0</td>\n",
       "      <td>0</td>\n",
       "      <td>0</td>\n",
       "      <td>0</td>\n",
       "      <td>0</td>\n",
       "      <td>0</td>\n",
       "      <td>0</td>\n",
       "      <td>1</td>\n",
       "      <td>5.384495</td>\n",
       "    </tr>\n",
       "    <tr>\n",
       "      <th>4</th>\n",
       "      <td>60</td>\n",
       "      <td>3395</td>\n",
       "      <td>790</td>\n",
       "      <td>5000000</td>\n",
       "      <td>23</td>\n",
       "      <td>499.0</td>\n",
       "      <td>1</td>\n",
       "      <td>0</td>\n",
       "      <td>0</td>\n",
       "      <td>0</td>\n",
       "      <td>0</td>\n",
       "      <td>0</td>\n",
       "      <td>1</td>\n",
       "      <td>0</td>\n",
       "      <td>0</td>\n",
       "      <td>3.135494</td>\n",
       "    </tr>\n",
       "  </tbody>\n",
       "</table>\n",
       "</div>"
      ],
      "text/plain": [
       "   appid  positive  negative   owners  average_forever  price  genres_Action  \\\n",
       "0     20      4691       815  2000000               92  499.0              1   \n",
       "1     30      4564       500  5000000              299  499.0              1   \n",
       "2     40      1668       360   100000               23  499.0              1   \n",
       "3     50     10197       535  5000000              218  499.0              1   \n",
       "4     60      3395       790  5000000               23  499.0              1   \n",
       "\n",
       "   genres_Adventure  genres_Casual  genres_Indie  genres_Other  genres_RPG  \\\n",
       "0                 0              0             0             0           0   \n",
       "1                 0              0             0             0           0   \n",
       "2                 0              0             0             0           0   \n",
       "3                 0              0             0             0           0   \n",
       "4                 0              0             0             0           0   \n",
       "\n",
       "   catagories_fixed_Multi  catagories_fixed_Single  \\\n",
       "0                       1                        0   \n",
       "1                       1                        0   \n",
       "2                       1                        0   \n",
       "3                       0                        0   \n",
       "4                       1                        0   \n",
       "\n",
       "   catagories_fixed_Single/Multi  log_playtime  \n",
       "0                              0      4.521789  \n",
       "1                              0      5.700444  \n",
       "2                              0      3.135494  \n",
       "3                              1      5.384495  \n",
       "4                              0      3.135494  "
      ]
     },
     "execution_count": 256,
     "metadata": {},
     "output_type": "execute_result"
    }
   ],
   "source": [
    "df2.head()"
   ]
  },
  {
   "cell_type": "code",
   "execution_count": 257,
   "metadata": {},
   "outputs": [],
   "source": [
    "# Create the target variable and One-Hot encode the catagorical features\n",
    "X = df2.drop(columns = ['average_forever', 'log_playtime'])\n",
    "features=list(X.columns)\n",
    "y = df2['log_playtime']"
   ]
  },
  {
   "cell_type": "code",
   "execution_count": 343,
   "metadata": {},
   "outputs": [
    {
     "data": {
      "text/plain": [
       "(10247, 14)"
      ]
     },
     "execution_count": 343,
     "metadata": {},
     "output_type": "execute_result"
    }
   ],
   "source": [
    "X.shape"
   ]
  },
  {
   "cell_type": "code",
   "execution_count": 258,
   "metadata": {},
   "outputs": [],
   "source": [
    "# Split the data into a training set and a testing set.\n",
    "X_train, X_test, y_train, y_test = train_test_split(X, y, train_size=0.8, random_state=42)"
   ]
  },
  {
   "cell_type": "markdown",
   "metadata": {},
   "source": [
    "## Baseline MSE and RMSE"
   ]
  },
  {
   "cell_type": "code",
   "execution_count": 368,
   "metadata": {},
   "outputs": [
    {
     "data": {
      "text/plain": [
       "1.7530199144850889"
      ]
     },
     "execution_count": 368,
     "metadata": {},
     "output_type": "execute_result"
    }
   ],
   "source": [
    "# MSE\n",
    "baseline = mean_squared_error(y_test, [y_train.mean()]*len(y_test), squared=False)\n",
    "baseline"
   ]
  },
  {
   "cell_type": "code",
   "execution_count": 369,
   "metadata": {},
   "outputs": [
    {
     "data": {
      "text/plain": [
       "1.3240165839161868"
      ]
     },
     "execution_count": 369,
     "metadata": {},
     "output_type": "execute_result"
    }
   ],
   "source": [
    "# RMSE\n",
    "rmse = np.sqrt(baseline)\n",
    "rmse"
   ]
  },
  {
   "cell_type": "markdown",
   "metadata": {},
   "source": [
    "## Standard Scaler"
   ]
  },
  {
   "cell_type": "code",
   "execution_count": 260,
   "metadata": {},
   "outputs": [],
   "source": [
    "# Scale the data based on only the training data. Then scale the testing set in the same wway.\n",
    "ss = StandardScaler()\n",
    "Z_train = ss.fit_transform(X_train)\n",
    "Z_test = ss.transform(X_test)"
   ]
  },
  {
   "cell_type": "markdown",
   "metadata": {},
   "source": [
    "## Linear Regression"
   ]
  },
  {
   "cell_type": "code",
   "execution_count": 261,
   "metadata": {},
   "outputs": [],
   "source": [
    "lr = LinearRegression()  # create object for the class\n",
    "lr.fit(Z_train, y_train)  # perform linear regression\n",
    "y_pred = lr.predict(Z_test)  # make predictions"
   ]
  },
  {
   "cell_type": "code",
   "execution_count": 262,
   "metadata": {},
   "outputs": [],
   "source": [
    "X_pred = lr.predict(Z_train)\n",
    "y_pred = lr.predict(Z_test)"
   ]
  },
  {
   "cell_type": "code",
   "execution_count": 352,
   "metadata": {},
   "outputs": [
    {
     "data": {
      "text/plain": [
       "0.16300879949056757"
      ]
     },
     "execution_count": 352,
     "metadata": {},
     "output_type": "execute_result"
    }
   ],
   "source": [
    "lr.score(Z_train, y_train)"
   ]
  },
  {
   "cell_type": "code",
   "execution_count": 359,
   "metadata": {},
   "outputs": [
    {
     "name": "stdout",
     "output_type": "stream",
     "text": [
      "Training MSE: 2.481739747347883\n",
      "Testing MSE: 3.3123857445327523\n"
     ]
    }
   ],
   "source": [
    "# MSE \n",
    "print(f'Training MSE: {mean_squared_error(y_true=y_train, y_pred=X_pred)}')\n",
    "print(f'Testing MSE: {mean_squared_error(y_true=y_test, y_pred=y_pred)}')"
   ]
  },
  {
   "cell_type": "code",
   "execution_count": 364,
   "metadata": {},
   "outputs": [],
   "source": [
    "# MSE for training\n",
    "lx_mse = mean_squared_error(y_true=y_train, y_pred=lr.predict(Z_train))\n",
    "ly_mse = mean_squared_error(y_test, y_pred)"
   ]
  },
  {
   "cell_type": "code",
   "execution_count": 365,
   "metadata": {},
   "outputs": [
    {
     "name": "stdout",
     "output_type": "stream",
     "text": [
      "Training MSE: 1.5753538482981793\n",
      "Testing MSE: 1.8199960836586304\n"
     ]
    }
   ],
   "source": [
    "# RMSE\n",
    "print(f'Training MSE: { np.sqrt(lx_mse)}')\n",
    "print(f'Testing MSE: { np.sqrt(ly_mse)}')"
   ]
  },
  {
   "cell_type": "code",
   "execution_count": 366,
   "metadata": {},
   "outputs": [
    {
     "data": {
      "image/png": "[encoded data removed]",
      "text/plain": [
       "<Figure size 432x432 with 1 Axes>"
      ]
     },
     "metadata": {
      "needs_background": "light"
     },
     "output_type": "display_data"
    }
   ],
   "source": [
    "plt.figure(figsize=(6,6))\n",
    "plt.scatter(y_test, rf_pred, c='crimson')\n",
    "plt.yscale('log')\n",
    "plt.xscale('log')\n",
    "\n",
    "p1 = max(max(y_pred), max(y_test))\n",
    "p2 = min(min(y_pred), min(y_test))\n",
    "plt.plot([p1, p2], [p1, p2], 'b-')\n",
    "plt.xlabel('True Values', fontsize=15)\n",
    "plt.ylabel('Predictions', fontsize=15)\n",
    "plt.axis('equal')\n",
    "plt.show()"
   ]
  },
  {
   "cell_type": "code",
   "execution_count": 374,
   "metadata": {},
   "outputs": [
    {
     "data": {
      "text/html": [
       "<div>\n",
       "<style scoped>\n",
       "    .dataframe tbody tr th:only-of-type {\n",
       "        vertical-align: middle;\n",
       "    }\n",
       "\n",
       "    .dataframe tbody tr th {\n",
       "        vertical-align: top;\n",
       "    }\n",
       "\n",
       "    .dataframe thead th {\n",
       "        text-align: right;\n",
       "    }\n",
       "</style>\n",
       "<table border=\"1\" class=\"dataframe\">\n",
       "  <thead>\n",
       "    <tr style=\"text-align: right;\">\n",
       "      <th></th>\n",
       "      <th>Coefficient</th>\n",
       "    </tr>\n",
       "  </thead>\n",
       "  <tbody>\n",
       "    <tr>\n",
       "      <th>appid</th>\n",
       "      <td>-0.104183</td>\n",
       "    </tr>\n",
       "    <tr>\n",
       "      <th>positive</th>\n",
       "      <td>0.152856</td>\n",
       "    </tr>\n",
       "    <tr>\n",
       "      <th>negative</th>\n",
       "      <td>-0.094536</td>\n",
       "    </tr>\n",
       "    <tr>\n",
       "      <th>owners</th>\n",
       "      <td>0.246838</td>\n",
       "    </tr>\n",
       "    <tr>\n",
       "      <th>price</th>\n",
       "      <td>0.545996</td>\n",
       "    </tr>\n",
       "    <tr>\n",
       "      <th>genres_Action</th>\n",
       "      <td>-0.018468</td>\n",
       "    </tr>\n",
       "    <tr>\n",
       "      <th>genres_Adventure</th>\n",
       "      <td>-0.012801</td>\n",
       "    </tr>\n",
       "    <tr>\n",
       "      <th>genres_Casual</th>\n",
       "      <td>-0.012412</td>\n",
       "    </tr>\n",
       "    <tr>\n",
       "      <th>genres_Indie</th>\n",
       "      <td>0.052866</td>\n",
       "    </tr>\n",
       "    <tr>\n",
       "      <th>genres_Other</th>\n",
       "      <td>-0.039399</td>\n",
       "    </tr>\n",
       "    <tr>\n",
       "      <th>genres_RPG</th>\n",
       "      <td>0.073224</td>\n",
       "    </tr>\n",
       "    <tr>\n",
       "      <th>catagories_fixed_Multi</th>\n",
       "      <td>0.065957</td>\n",
       "    </tr>\n",
       "    <tr>\n",
       "      <th>catagories_fixed_Single</th>\n",
       "      <td>0.018895</td>\n",
       "    </tr>\n",
       "    <tr>\n",
       "      <th>catagories_fixed_Single/Multi</th>\n",
       "      <td>0.078477</td>\n",
       "    </tr>\n",
       "  </tbody>\n",
       "</table>\n",
       "</div>"
      ],
      "text/plain": [
       "                               Coefficient\n",
       "appid                            -0.104183\n",
       "positive                          0.152856\n",
       "negative                         -0.094536\n",
       "owners                            0.246838\n",
       "price                             0.545996\n",
       "genres_Action                    -0.018468\n",
       "genres_Adventure                 -0.012801\n",
       "genres_Casual                    -0.012412\n",
       "genres_Indie                      0.052866\n",
       "genres_Other                     -0.039399\n",
       "genres_RPG                        0.073224\n",
       "catagories_fixed_Multi            0.065957\n",
       "catagories_fixed_Single           0.018895\n",
       "catagories_fixed_Single/Multi     0.078477"
      ]
     },
     "execution_count": 374,
     "metadata": {},
     "output_type": "execute_result"
    }
   ],
   "source": [
    "pd.DataFrame(lr.coef_, index= features, columns=['Coefficient'])# Turn it into a data frame"
   ]
  },
  {
   "cell_type": "markdown",
   "metadata": {},
   "source": [
    "## Gradient Boost Regressor"
   ]
  },
  {
   "cell_type": "code",
   "execution_count": 331,
   "metadata": {},
   "outputs": [
    {
     "data": {
      "text/plain": [
       "GradientBoostingRegressor(criterion='mse', n_estimators=3)"
      ]
     },
     "execution_count": 331,
     "metadata": {},
     "output_type": "execute_result"
    }
   ],
   "source": [
    "params = {'n_estimators':3, 'max_depth': 3, 'criterion':'mse'}\n",
    "gb = GradientBoostingRegressor(**params)\n",
    "gb.fit(Z_train, y_train)"
   ]
  },
  {
   "cell_type": "code",
   "execution_count": 332,
   "metadata": {},
   "outputs": [],
   "source": [
    "gb_pred = gb.predict(Z_train)\n",
    "bg_pred = gb.predict(Z_test)"
   ]
  },
  {
   "cell_type": "code",
   "execution_count": 344,
   "metadata": {},
   "outputs": [
    {
     "data": {
      "text/plain": [
       "0.125103667545454"
      ]
     },
     "execution_count": 344,
     "metadata": {},
     "output_type": "execute_result"
    }
   ],
   "source": [
    "gb.score(Z_test, y_test)"
   ]
  },
  {
   "cell_type": "code",
   "execution_count": 360,
   "metadata": {},
   "outputs": [
    {
     "name": "stdout",
     "output_type": "stream",
     "text": [
      "Training MSE: 2.5730208636610628\n",
      "Testing MSE: 2.68622040740402\n"
     ]
    }
   ],
   "source": [
    "# MSE \n",
    "print(f'Training MSE: {mean_squared_error(y_true=y_train, y_pred=gb_pred)}')\n",
    "print(f'Testing MSE: {mean_squared_error(y_true=y_test, y_pred=bg_pred)}')"
   ]
  },
  {
   "cell_type": "code",
   "execution_count": 358,
   "metadata": {},
   "outputs": [],
   "source": [
    "# MSE for training\n",
    "x_mse = mean_squared_error(y_true=y_train, y_pred=gb.predict(Z_train))\n",
    "y_mse = mean_squared_error(y_test, bg_pred)"
   ]
  },
  {
   "cell_type": "code",
   "execution_count": 361,
   "metadata": {},
   "outputs": [
    {
     "name": "stdout",
     "output_type": "stream",
     "text": [
      "Training MSE: 1.6040638589722862\n",
      "Testing MSE: 1.6389693125266318\n"
     ]
    }
   ],
   "source": [
    "# RMSE\n",
    "print(f'Training MSE: { np.sqrt(x_mse)}')\n",
    "print(f'Testing MSE: { np.sqrt(y_mse)}')"
   ]
  },
  {
   "cell_type": "code",
   "execution_count": 367,
   "metadata": {},
   "outputs": [
    {
     "data": {
      "image/png": "[encoded data removed]",
      "text/plain": [
       "<Figure size 432x432 with 1 Axes>"
      ]
     },
     "metadata": {
      "needs_background": "light"
     },
     "output_type": "display_data"
    }
   ],
   "source": [
    "plt.figure(figsize=(6,6))\n",
    "plt.scatter(y_test, rf_pred, c='crimson')\n",
    "plt.yscale('log')\n",
    "plt.xscale('log')\n",
    "\n",
    "p1 = max(max(bg_pred), max(y_test))\n",
    "p2 = min(min(bg_pred), min(y_test))\n",
    "plt.plot([p1, p2], [p1, p2], 'b-')\n",
    "plt.xlabel('True Values', fontsize=15)\n",
    "plt.ylabel('Predictions', fontsize=15)\n",
    "plt.axis('equal')\n",
    "plt.show()"
   ]
  },
  {
   "cell_type": "markdown",
   "metadata": {},
   "source": [
    "## Random Forest Regressor"
   ]
  },
  {
   "cell_type": "code",
   "execution_count": 276,
   "metadata": {},
   "outputs": [],
   "source": [
    "# Instantiate model with 1000 decision trees\n",
    "rf = RandomForestRegressor(n_estimators = 200, random_state = 42)"
   ]
  },
  {
   "cell_type": "code",
   "execution_count": 277,
   "metadata": {},
   "outputs": [],
   "source": [
    "# Train the model on training data\n",
    "rf.fit(Z_train, y_train)\n",
    "rf_pred = rf.predict(Z_test)"
   ]
  },
  {
   "cell_type": "code",
   "execution_count": 278,
   "metadata": {},
   "outputs": [
    {
     "data": {
      "text/plain": [
       "0.33041208760610197"
      ]
     },
     "execution_count": 278,
     "metadata": {},
     "output_type": "execute_result"
    }
   ],
   "source": [
    "rf.score(Z_test, y_test)"
   ]
  },
  {
   "cell_type": "code",
   "execution_count": 371,
   "metadata": {},
   "outputs": [
    {
     "name": "stdout",
     "output_type": "stream",
     "text": [
      "MSE on training set: 0.267261514664184\n",
      "MSE on testing set: 2.0558558175428066\n"
     ]
    }
   ],
   "source": [
    "# Check the MSE on the training and testing sets.\n",
    "print(f'MSE on training set: {mean_squared_error(y_train, rf.predict(Z_train))}')\n",
    "print(f'MSE on testing set: {mean_squared_error(y_test, rf_pred)}')"
   ]
  },
  {
   "cell_type": "code",
   "execution_count": 376,
   "metadata": {},
   "outputs": [],
   "source": [
    "# MSE for training\n",
    "rx_mse = mean_squared_error(y_true=y_train, y_pred=rf.predict(Z_train))\n",
    "ry_mse = mean_squared_error(y_test, rf_pred)"
   ]
  },
  {
   "cell_type": "code",
   "execution_count": 377,
   "metadata": {},
   "outputs": [
    {
     "name": "stdout",
     "output_type": "stream",
     "text": [
      "Training MSE: 0.5169734177539345\n",
      "Testing MSE: 1.433825588257793\n"
     ]
    }
   ],
   "source": [
    "# RMSE\n",
    "print(f'Training MSE: { np.sqrt(rx_mse)}')\n",
    "print(f'Testing MSE: { np.sqrt(ry_mse)}')"
   ]
  },
  {
   "cell_type": "code",
   "execution_count": 370,
   "metadata": {},
   "outputs": [
    {
     "data": {
      "image/png": "[encoded data removed]",
      "text/plain": [
       "<Figure size 432x432 with 1 Axes>"
      ]
     },
     "metadata": {
      "needs_background": "light"
     },
     "output_type": "display_data"
    }
   ],
   "source": [
    "plt.figure(figsize=(6,6))\n",
    "plt.scatter(y_test, rf_pred, c='crimson')\n",
    "plt.yscale('log')\n",
    "plt.xscale('log')\n",
    "\n",
    "p1 = max(max(rf_pred), max(y_test))\n",
    "p2 = min(min(rf_pred), min(y_test))\n",
    "plt.plot([p1, p2], [p1, p2], 'b-')\n",
    "plt.xlabel('True Values', fontsize=15)\n",
    "plt.ylabel('Predictions', fontsize=15)\n",
    "plt.axis('equal')\n",
    "plt.show()"
   ]
  },
  {
   "cell_type": "code",
   "execution_count": 279,
   "metadata": {},
   "outputs": [],
   "source": [
    "resids = y_test - rf_pred"
   ]
  },
  {
   "cell_type": "code",
   "execution_count": 280,
   "metadata": {},
   "outputs": [
    {
     "data": {
      "text/plain": [
       "-0.006736459124799907"
      ]
     },
     "execution_count": 280,
     "metadata": {},
     "output_type": "execute_result"
    }
   ],
   "source": [
    "np.mean(resids)"
   ]
  },
  {
   "cell_type": "code",
   "execution_count": 281,
   "metadata": {},
   "outputs": [
    {
     "data": {
      "image/png": "[encoded data removed]",
      "text/plain": [
       "<Figure size 576x360 with 1 Axes>"
      ]
     },
     "metadata": {
      "needs_background": "light"
     },
     "output_type": "display_data"
    }
   ],
   "source": [
    "# Let's plot our residuals - check the L and E assumptions\n",
    "plt.figure(figsize=(8,5))\n",
    "plt.scatter(rf_pred, resids)\n",
    "plt.axhline(0, color='red');"
   ]
  },
  {
   "cell_type": "code",
   "execution_count": 284,
   "metadata": {},
   "outputs": [],
   "source": [
    "#### Fucntion to gridsearch through the models (work in progress) #####\n",
    "\n",
    "def rfr_model(X_train, y_train):\n",
    "# Perform Grid-Search\n",
    "    gsc = GridSearchCV(\n",
    "        estimator=RandomForestRegressor(),\n",
    "        param_grid={\n",
    "            'max_depth': range(3,7),\n",
    "            'n_estimators': (10, 50, 100, 1000),\n",
    "        },\n",
    "        cv=5, verbose=0, n_jobs=-1)\n",
    "    \n",
    "    grid_result = gsc.fit(X_train, y_train)\n",
    "    best_params = grid_result.best_params_\n",
    "    \n",
    "    rf = RandomForestRegressor(max_depth=best_params[\"max_depth\"], n_estimators=best_params[\"n_estimators\"], random_state=False, verbose=False)\n",
    "    scores = cross_val_score(rf, X_train, y_train, cv=10)\n",
    "\n",
    "    return scores"
   ]
  },
  {
   "cell_type": "code",
   "execution_count": 285,
   "metadata": {},
   "outputs": [
    {
     "data": {
      "text/plain": [
       "array([-0.99766005, -0.92075626, -1.00476298, -0.92814586, -1.02140179,\n",
       "       -1.00596102, -1.00455497, -1.01043396, -1.03186364, -0.94759334])"
      ]
     },
     "execution_count": 285,
     "metadata": {},
     "output_type": "execute_result"
    }
   ],
   "source": [
    "rfr_model(X_train, y_train)"
   ]
  },
  {
   "cell_type": "markdown",
   "metadata": {},
   "source": [
    "## Model Evaluation"
   ]
  },
  {
   "cell_type": "markdown",
   "metadata": {},
   "source": [
    "The best performing model I believe is Gradient Boost. Even though it did not have as high of an accuracy score as Random Forest, it had 50% higher accuracy score than the base model and MSE and RMSE for training and testing is very closer. Linear Regression, base model has the lowest accuracy score and it is slightly overfit. While Random Forest had the highest accuracy score, it was very overfit. "
   ]
  },
  {
   "cell_type": "markdown",
   "metadata": {},
   "source": [
    "| Model             |   MSE train/test    | RMSE train/test   | Accuracy Score|\n",
    "|-------------------|---------------------|-------------------|---------------|\n",
    "| Linear Regression | 2.5/3.3             | 1.5/1.8           | 0.07          | \n",
    "| Random Forest     | 0.26/2.05           | 0.5/1.4           | 0.33          | \n",
    "| Gradient Boost    | 2.5/2.6             | 1.6/1.7           | 0.14          | "
   ]
  }
 ],
 "metadata": {
  "kernelspec": {
   "display_name": "Python 3",
   "language": "python",
   "name": "python3"
  },
  "language_info": {
   "codemirror_mode": {
    "name": "ipython",
    "version": 3
   },
   "file_extension": ".py",
   "mimetype": "text/x-python",
   "name": "python",
   "nbconvert_exporter": "python",
   "pygments_lexer": "ipython3",
   "version": "3.8.3"
  }
 },
 "nbformat": 4,
 "nbformat_minor": 4
}
