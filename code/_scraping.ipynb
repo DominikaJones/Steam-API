{
 "cells": [
  {
   "cell_type": "markdown",
   "metadata": {},
   "source": [
    "# Predicting STEAM User Engagement"
   ]
  },
  {
   "cell_type": "markdown",
   "metadata": {},
   "source": [
    "# ACQUIRING DATA\n",
    "## STEAM WEB AND STEAMSPY API SCRAPING"
   ]
  },
  {
   "cell_type": "markdown",
   "metadata": {},
   "source": [
    "Based on code from Nik Davis\n",
    "URL: https://nik-davis.github.io/posts/2019/steam-data-collection/\n",
    "\n",
    "This code is a simplified version of his code, with reduced compelxity but with the feature of repairing missing entiries in data files. This code also attempts to does it's best to prevent data lose by creating copies of data before writing allow quicky and easy recovery."
   ]
  },
  {
   "cell_type": "code",
   "execution_count": 1,
   "metadata": {},
   "outputs": [],
   "source": [
    "# Imports\n",
    "\n",
    "import csv\n",
    "import datetime as dt\n",
    "import json\n",
    "import os\n",
    "import statistics\n",
    "import time\n",
    "import sys\n",
    "import numpy as np\n",
    "import pandas as pd\n",
    "import requests\n",
    "import datetime\n",
    "import shutil"
   ]
  },
  {
   "cell_type": "markdown",
   "metadata": {},
   "source": [
    "Setup where we will write files, determine what the filenames are and set what columns we will save into our csv files from the data returned by the steampowered and steamspy API"
   ]
  },
  {
   "cell_type": "code",
   "execution_count": 219,
   "metadata": {},
   "outputs": [],
   "source": [
    "# set files and columns\n",
    "download_path = '/Capstone-project/data/data_scraped'\n",
    "csvpath=\"{}/csvfiles/\".format(download_path)\n",
    "steamspy_data = 'steamspy_data.csv'\n",
    "steampowered_data = 'steampowered_data.csv'\n",
    "\n",
    "### Columns we want from steamspy's appdetail data\n",
    "steamspy_columns = [\n",
    "    'appid', 'name', 'developer', 'publisher', 'score_rank', 'positive',\n",
    "    'negative', 'userscore', 'owners', 'average_forever', 'average_2weeks',\n",
    "    'median_forever', 'median_2weeks', 'price', 'initialprice', 'discount',\n",
    "    'languages', 'genre', 'ccu', 'tags'\n",
    "]\n",
    "\n",
    "### Columns we want from the steampowered's appdetail data\n",
    "steampowered_columns = [\n",
    "   'type', 'name', 'steam_appid', 'required_age', 'is_free', 'controller_support',\n",
    "   'dlc', 'detailed_description', 'about_the_game', 'short_description', 'fullgame',\n",
    "   'supported_languages','pc_requirements', 'mac_requirements', 'linux_requirements',\n",
    "   'developers', 'publishers', 'demos', 'price_overview', 'packages', 'package_groups',\n",
    "   'platforms', 'metacritic', 'reviews', 'categories', 'genres', 'recommendations',\n",
    "   'achievements', 'release_date', 'content_descriptors'\n",
    "]"
   ]
  },
  {
   "cell_type": "markdown",
   "metadata": {},
   "source": [
    "get_request():  wrapper for requests module.  Adds retry logic. \n",
    "\n",
    "parse_steampowered_request():  get info about a game from steampowered when supplied a appid\n",
    "\n",
    "parse_steamspy_request():   get info about a game frmo steamspy wheen supplied a appid\n",
    "\n",
    "get_data():  our main function.  We use this so get data abut all the games we have in the app_list variable"
   ]
  },
  {
   "cell_type": "code",
   "execution_count": 220,
   "metadata": {},
   "outputs": [],
   "source": [
    "### We will use this a lot to pull data from each page.\n",
    "def get_request(url, parameters=None):\n",
    "    ### if we fail to get data, sleep and try again\n",
    "    ### Sometimes we poll the site too often and it won't return data\n",
    "    sleeptime=30\n",
    "    try:\n",
    "        ### This is doing all the work\n",
    "        response = requests.get(url=url, params=parameters)\n",
    "    except:\n",
    "        print(\"\\nerror pulling data from {}\\n\".format(url))\n",
    "        \n",
    "    if response:\n",
    "        return response.json()\n",
    "    ### If we don't get data, lets try again by calling this function.\n",
    "    else:\n",
    "        print('\\nNo response, waiting {} seconds\\n'.format(sleeptime))\n",
    "        ### The sleep if we are access the website too often.\n",
    "        time.sleep(sleeptime)\n",
    "        print('\\nRetrying.\\n')\n",
    "        return get_request(url, parameters)\n",
    "    \n",
    "### functions we use to parse data from steampowered and steamspy.\n",
    "### These functions pull a single games information based an app id that is passed to it\n",
    "def parse_steampowered_request(appid, name):\n",
    "    ### the base URL we use to get app data.\n",
    "    url = \"http://store.steampowered.com/api/appdetails/\"\n",
    "    ### We pass the appid variable to get data.\n",
    "    parameters = {\"appids\": appid}\n",
    "    \n",
    "    ### get data\n",
    "    json_data = get_request(url, parameters=parameters)\n",
    "    ### Only get data for our appid (game)\n",
    "    json_app_data = json_data[str(appid)]\n",
    "    \n",
    "    ### if pull was successful..\n",
    "    if json_app_data['success']:\n",
    "        ### set data to the data of the game.\n",
    "        data = json_app_data['data']\n",
    "    else:\n",
    "        ### if we didn't get the game details, we return the basic info we know about the game\n",
    "        data = {'name': name, 'steam_appid': appid}\n",
    "        \n",
    "    return data\n",
    "\n",
    "### functions we use to parse data from steampowered and steamspy.\n",
    "### These functions pull a single games information based an app id that is passed to it\n",
    "def parse_steamspy_request(appid, name):\n",
    "    ### the base URL wee usee to get app data\n",
    "    url = \"https://steamspy.com/api.php\"\n",
    "    ### Request type iss appdetails, and we pass the appid.  \n",
    "    parameters = {\"request\": \"appdetails\", \"appid\": appid}\n",
    "   \n",
    "    ### The data wee turn is well formated so we can just return it\n",
    "    ### unlike what is happening with steampowered.\n",
    "    json_data = get_request(url, parameters)\n",
    "    return json_data\n",
    "\n",
    "\n",
    "### This function will read in the csv files that exist.\n",
    "### if CSV files do not exist, we generate CSV files with header info\n",
    "### For each app_id we have in app_list\n",
    "###     check if we have data in our steampowered csv.  If we don't download\n",
    "###     check if we have data in our steamspy csv. If we don't download\n",
    "def get_data(app_list):\n",
    "    ### Get the time.\n",
    "    ### We use this data to create a backup file\n",
    "    ### backup file has a timestamp\n",
    "    now=datetime.datetime.now().strftime(\"%Y%m%d_%H%M%S\")\n",
    "    current_steampowered_file='{}/{}'.format(download_path,steampowered_data)\n",
    "    current_steamspy_file='{}/{}'.format(download_path,steamspy_data)    \n",
    "    current_steampowered_file_backup='{}/{}.{}'.format(download_path,steampowered_data,now)\n",
    "    current_steamspy_file_backup='{}/{}.{}'.format(download_path,steamspy_data,now)\n",
    "    ### Actually copy the current file to a backup file.\n",
    "    shutil.copy2(current_steampowered_file,current_steampowered_file_backup)\n",
    "    shutil.copy2(current_steamspy_file,current_steamspy_file_backup)\n",
    "\n",
    "    ### We read in the current file for steampowered\n",
    "    ### and get all th appids.\n",
    "    known_steampowered_appid=list()\n",
    "    if os.path.isfile(current_steampowered_file):\n",
    "        tmp_list =  pd.read_csv(current_steampowered_file)        \n",
    "        for idx,row in tmp_list.iterrows():\n",
    "                steam_id=row['steam_appid']\n",
    "                known_steampowered_appid.append(steam_id)\n",
    "    else:\n",
    "        ### if this is our fist run, create the CSV file and write a header.\n",
    "        print(\"First Run: creating {}\".format(current_steampowered_file))\n",
    "        with open(current_steampowered_file, 'w') as f:\n",
    "            csv_writer = csv.DictWriter(f, fieldnames=steampowered_columns, extrasaction='ignore')\n",
    "            csv_writer.writeheader()            \n",
    "        f.close()\n",
    "\n",
    "\n",
    "    ### We read in the current file for steamspy\n",
    "    ### and get all th appids.\n",
    "    known_steamspy_appid=list()\n",
    "    if os.path.isfile(current_steamspy_file):\n",
    "        tmp_list = pd.read_csv(current_steamspy_file)\n",
    "        for idx,row in tmp_list.iterrows():\n",
    "            steam_id=row['appid']\n",
    "            known_steamspy_appid.append(steam_id)\n",
    "    else:\n",
    "        ### if this is our fist run, create the CSV file and write a header.\n",
    "        print(\"First Run: creating {}\".format(current_steamspy_file))\n",
    "        with open(current_steamspy_file, 'w') as f:\n",
    "            csv_writer = csv.DictWriter(f, fieldnames=steamspy_columns, extrasaction='ignore')\n",
    "            csv_writer.writeheader()\n",
    "        f.close()          \n",
    "\n",
    "    ### create file handle so we can append data to our current files. \n",
    "    fh_steampowered   = open(current_steampowered_file, 'a', encoding='utf-8') \n",
    "    fhcsv_steampowered = csv.DictWriter(fh_steampowered, fieldnames=steampowered_columns, extrasaction='ignore') \n",
    "    fh_steamspy       = open(current_steamspy_file, 'a', encoding='utf-8')\n",
    "    fhcsv_steamspy    = csv.DictWriter(fh_steamspy, fieldnames=steamspy_columns, extrasaction='ignore')\n",
    "    \n",
    "    ### counter is used to print a line every 100 appids.\n",
    "    counter=0\n",
    "    for index, row in app_list.iterrows():\n",
    "        ##Get app id and game name from app_list.\n",
    "        appid = row['appid']\n",
    "        name = row['name']\n",
    "        \n",
    "        ### if this is the 100th app id, print.  \n",
    "        if counter%100==0:\n",
    "            print(\"\\nappid: {} - name {}\".format(appid,name))\n",
    "        else:\n",
    "            ### lets the user know something is happening.\n",
    "            print(\".\",end='')\n",
    "        counter=counter+1\n",
    "        \n",
    "        ### if we do not have info about the appid in our current CSV file, get from steampowered.\n",
    "        ### This allows our code to be self healing our CSV filse and to resume.\n",
    "        if appid not in known_steampowered_appid:\n",
    "            data=parse_steampowered_request(appid,name)\n",
    "            fhcsv_steampowered.writerow(data) \n",
    "            \n",
    "        ### if we do not have info about the appid in our current CSV file, get from steampowered.\n",
    "        ### This allows our code to self healing our CSV files and to resume.\n",
    "        if appid not in known_steamspy_appid:\n",
    "            data=parse_steamspy_request(appid,name)\n",
    "            fhcsv_steamspy.writerow(data)"
   ]
  },
  {
   "cell_type": "markdown",
   "metadata": {},
   "source": [
    "Get list of games from steamspy.  We need the appid too get more data later.  Each page returns 1000 games so by setting max_pages we can control how much data we want to use ultimately."
   ]
  },
  {
   "cell_type": "code",
   "execution_count": null,
   "metadata": {},
   "outputs": [],
   "source": [
    "### pull data directly from steamspy.  Gets appid and game name.\n",
    "### The appids provide a filtered view of all the \n",
    "### appids in the steam system.\n",
    "url = \"https://steamspy.com/api.php\"\n",
    "print(\"csvpath: {}\".format(csvpath))\n",
    "\n",
    "### starting page\n",
    "page=0\n",
    "### max pages.  Each page returns 1000 entries\n",
    "### allows us to control how many entries we have.\n",
    "max_pages=5\n",
    "while page<max_pages:\n",
    "    ### we use the request type all to a well formated list of games.\n",
    "    ### data is pagenanted, we use page to change page. \n",
    "    parameters = {\"request\": \"all\",\"page\":page}\n",
    "    ### print so we know what is happening.\n",
    "    print(\"getting page {}?request=all&page={}\".format(url,page))\n",
    "    ### Get data\n",
    "    json_data = get_request(url, parameters=parameters)\n",
    "    ### process our data, get the appid and game name.\n",
    "    if json_data:\n",
    "        steam_spy_all = pd.DataFrame.from_dict(json_data, orient='index')\n",
    "        tmp_app_list = steam_spy_all[['appid', 'name']].sort_values('appid').reset_index(drop=True)\n",
    "        ### write to csv\n",
    "        tmp_app_list.to_csv('{}/app_list_page_{}.csv'.format(csvpath,page), index=False)\n",
    "    else:\n",
    "        ### this API somoetimes caches bad data.  If we don't get any data\n",
    "        ### inform the user.  They will have to rerun for that page.\n",
    "        print(\"no data return\")\n",
    "    ### increase page counter\n",
    "    page=page+1\n",
    "    ### sleep 60 seconds as requested by the API documentation\n",
    "    time.sleep(60)"
   ]
  },
  {
   "cell_type": "markdown",
   "metadata": {},
   "source": [
    "The above code does not load the data into a variable.  We need to run the code below to do that.  This allows flexability.  We can manually adjust the CSV files between the two runs if needed."
   ]
  },
  {
   "cell_type": "code",
   "execution_count": 223,
   "metadata": {},
   "outputs": [
    {
     "name": "stdout",
     "output_type": "stream",
     "text": [
      "csvpath: /Users/zig/Downloads/Project//csvfiles/\n",
      "Read 3 csv files\n",
      "Number of rows  in app_list: (3000, 2)\n"
     ]
    }
   ],
   "source": [
    "print(\"csvpath: {}\".format(csvpath))\n",
    "\n",
    "### pull data from CSV files instead of regenerating data.\n",
    "count=0\n",
    "### create empty dataFrame\n",
    "app_list=pd.DataFrame()\n",
    "### loop through list of filenames\n",
    "for filename in os.listdir(csvpath):\n",
    "    ### match file name.\n",
    "    if \"app_list_page\" in filename:\n",
    "        full_path=\"{}{}\".format(csvpath,filename)\n",
    "        ### safe data to temp dataFrame\n",
    "        tmp_list = pd.read_csv(\"{}{}\".format(csvpath,filename))\n",
    "        ### append data to main dataFrame\n",
    "        app_list=app_list.append(tmp_list)\n",
    "        count=count+1\n",
    "### print info about number of pages\n",
    "### print number of rows in the dataFrame\n",
    "print(\"Read {} csv files\".format(count))\n",
    "print(\"Number of rows  in app_list: {}\".format(app_list.shape))\n",
    "app_list=app_list.sort_values(by='appid')"
   ]
  },
  {
   "cell_type": "markdown",
   "metadata": {},
   "source": [
    "Call get_data to start pulling data from steamspy and steampowered"
   ]
  },
  {
   "cell_type": "code",
   "execution_count": null,
   "metadata": {},
   "outputs": [
    {
     "name": "stdout",
     "output_type": "stream",
     "text": [
      "\n",
      "appid: 10 - name Counter-Strike\n",
      "...................................................................................................\n",
      "appid: 6800 - name Commandos: Behind Enemy Lines\n",
      ".............................................................."
     ]
    }
   ],
   "source": [
    "###call get_data to get our data!!\n",
    "get_data(app_list)"
   ]
  }
 ],
 "metadata": {
  "kernelspec": {
   "display_name": "Python 3",
   "language": "python",
   "name": "python3"
  },
  "language_info": {
   "codemirror_mode": {
    "name": "ipython",
    "version": 3
   },
   "file_extension": ".py",
   "mimetype": "text/x-python",
   "name": "python",
   "nbconvert_exporter": "python",
   "pygments_lexer": "ipython3",
   "version": "3.8.3"
  }
 },
 "nbformat": 4,
 "nbformat_minor": 4
}
